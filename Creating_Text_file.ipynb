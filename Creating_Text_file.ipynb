{
  "nbformat": 4,
  "nbformat_minor": 0,
  "metadata": {
    "colab": {
      "provenance": []
    },
    "kernelspec": {
      "name": "python3",
      "display_name": "Python 3"
    },
    "language_info": {
      "name": "python"
    }
  },
  "cells": [
    {
      "cell_type": "markdown",
      "source": [
        "**Creating Text Files**"
      ],
      "metadata": {
        "id": "RRIvBimdgcV_"
      }
    },
    {
      "cell_type": "markdown",
      "source": [
        "Text File for Student-1"
      ],
      "metadata": {
        "id": "kwhHy3X0hcIB"
      }
    },
    {
      "cell_type": "code",
      "execution_count": null,
      "metadata": {
        "id": "l8nln6RKfqzm"
      },
      "outputs": [],
      "source": [
        "f=open(\"Amit Kumar.txt\",\"w+\")\n",
        "f.close()"
      ]
    },
    {
      "cell_type": "markdown",
      "source": [
        "Text File for Student-2"
      ],
      "metadata": {
        "id": "aCDeYG6vhiYa"
      }
    },
    {
      "cell_type": "code",
      "source": [
        "f=open(\"Rohan Sharma.txt\",\"w+\")\n",
        "f.close()"
      ],
      "metadata": {
        "id": "TZGavhaXhUmV"
      },
      "execution_count": null,
      "outputs": []
    },
    {
      "cell_type": "markdown",
      "source": [
        "Text File for Student-3"
      ],
      "metadata": {
        "id": "GhxXGGTKhjlp"
      }
    },
    {
      "cell_type": "code",
      "source": [
        "f=open(\"Alex Grey.txt\",\"w+\")\n",
        "f.close()"
      ],
      "metadata": {
        "id": "nShA8oYmhZ1x"
      },
      "execution_count": null,
      "outputs": []
    },
    {
      "cell_type": "markdown",
      "source": [
        "Text File for Student-4"
      ],
      "metadata": {
        "id": "Yi43IByshlMh"
      }
    },
    {
      "cell_type": "code",
      "source": [
        "f=open(\"Md.Faizal Khan.txt\",\"w+\")\n",
        "f.close()"
      ],
      "metadata": {
        "id": "EaTG_jLIhamM"
      },
      "execution_count": null,
      "outputs": []
    },
    {
      "cell_type": "markdown",
      "source": [
        "Importing pandas and reading excel"
      ],
      "metadata": {
        "id": "utTAPotOl0_x"
      }
    },
    {
      "cell_type": "code",
      "source": [
        "import pandas as pd\n",
        "df=pd.read_excel(\"Results.xlsx\")"
      ],
      "metadata": {
        "id": "QJfvRHYTq9zs"
      },
      "execution_count": null,
      "outputs": []
    },
    {
      "cell_type": "markdown",
      "source": [
        "Storing data into assigned variables"
      ],
      "metadata": {
        "id": "_iNWvIUs7n0L"
      }
    },
    {
      "cell_type": "code",
      "source": [
        "s_name=list(df.iloc[3:,0].dropna())\n",
        "rno=list(df.iloc[3:,1].dropna())\n",
        "program_name=list(df.iloc[3:,2].dropna())\n",
        "exam_date=list(df.iloc[3:,3].dropna())\n",
        "g_total=list(df.iloc[3:,14].dropna())"
      ],
      "metadata": {
        "id": "A68Uu6FlraWV"
      },
      "execution_count": null,
      "outputs": []
    },
    {
      "cell_type": "code",
      "source": [
        "for i in range(4):\n",
        "  course=[]\n",
        "  result=[]\n",
        "  fail=[]\n",
        "  fail_result=[]\n",
        "  for j in range(4,14,2):\n",
        "    course_name=df.iloc[1,j]\n",
        "    course_result=df.iloc[i+3,j+1]\n",
        "    if course_result=='Pass':\n",
        "      course.append(course_name)\n",
        "      result.append(course_result)\n",
        "    elif course_result=='Fail':\n",
        "      fail.append(course_name)\n",
        "      fail_result.append(course_result)\n",
        "      with open(f\"{s_name[i]}.txt\", 'w') as file:\n",
        "        if 'Pass' in result:\n",
        "            file.write(f\"Mr. {s_name[i]} bearing registration number {rno[i]},enrolled in the program {program_name[i]} has appeared in final exams on {exam_date[i]}. Student has successfully qualified the following courses: {', '.join(course)} and has scored a Grand Total of {g_total[i]} marks.\\n\")\n",
        "        if \"Fail\" in fail_result:\n",
        "            file.write(f\"But he failed the {', '.join(fail)} course. He may have to re-appear in this exam.\")\n"
      ],
      "metadata": {
        "id": "nN-si2tQ4eiM"
      },
      "execution_count": null,
      "outputs": []
    }
  ]
}