{
  "nbformat": 4,
  "nbformat_minor": 0,
  "metadata": {
    "colab": {
      "provenance": []
    },
    "kernelspec": {
      "name": "python3",
      "display_name": "Python 3"
    },
    "language_info": {
      "name": "python"
    }
  },
  "cells": [
    {
      "cell_type": "code",
      "execution_count": null,
      "metadata": {
        "colab": {
          "base_uri": "https://localhost:8080/"
        },
        "id": "fJEGIrmMpYTg",
        "outputId": "6731fa3a-dcbc-41cf-e30e-bfc6dff2865a"
      },
      "outputs": [
        {
          "output_type": "stream",
          "name": "stdout",
          "text": [
            "   Unnamed: 0  Ozone  Solar.R  Wind  Temp  Month  Day\n",
            "0           1   41.0    190.0   7.4    67      5    1\n",
            "1           2   36.0    118.0   8.0    72      5    2\n",
            "2           3   12.0    149.0  12.6    74      5    3\n",
            "3           4   18.0    313.0  11.5    62      5    4\n",
            "4           5    NaN      NaN  14.3    56      5    5\n"
          ]
        }
      ],
      "source": [
        "#Importing library\n",
        "import pandas as pd\n",
        "\n",
        "#Load the dataset\n",
        "file_path='airquality.csv'\n",
        "air=pd.read_csv(file_path)\n",
        "\n",
        "#printing the head\n",
        "print(air.head())"
      ]
    },
    {
      "cell_type": "code",
      "source": [
        "#Inspecting the ozone variable\n",
        "\n",
        "ozone_mean=air[\"Ozone\"].mean()\n",
        "print(\"mean of ozone\",ozone_mean)\n",
        "\n",
        "ozone_mode=air[\"Ozone\"].mode()\n",
        "print(\"mode of ozone\",ozone_mode)\n",
        "\n",
        "ozone_median=air[\"Ozone\"].median()\n",
        "print(\"mode of ozone\",ozone_median)\n",
        "\n",
        "ozone_max=air[\"Ozone\"].max()\n",
        "print(\"mode of ozone\",ozone_max)\n",
        "\n",
        "ozone_min=air[\"Ozone\"].min()\n",
        "print(\"mode of ozone\",ozone_min)"
      ],
      "metadata": {
        "colab": {
          "base_uri": "https://localhost:8080/"
        },
        "id": "a6SID7HkreD5",
        "outputId": "ea3d9309-d1f4-49c3-ce80-3e3fb46b8d75"
      },
      "execution_count": null,
      "outputs": [
        {
          "output_type": "stream",
          "name": "stdout",
          "text": [
            "mean of ozone 42.12931034482759\n",
            "mode of ozone 0    23.0\n",
            "Name: Ozone, dtype: float64\n",
            "mode of ozone 31.5\n",
            "mode of ozone 168.0\n",
            "mode of ozone 1.0\n"
          ]
        }
      ]
    },
    {
      "cell_type": "code",
      "source": [
        "ozone_std=air[\"Ozone\"].std()\n",
        "ozone_median=air[\"Ozone\"].median()\n",
        "solar_std=air[\"Ozone\"].std()\n",
        "solar_median=air[\"Ozone\"].median()\n",
        "\n",
        "print(\"ozone std\",ozone_std)\n",
        "print(\"ozone std\",ozone_median)"
      ],
      "metadata": {
        "colab": {
          "base_uri": "https://localhost:8080/"
        },
        "id": "hn3VENYLsAbq",
        "outputId": "b1cf6847-d870-44d0-970e-abfb449d4306"
      },
      "execution_count": null,
      "outputs": [
        {
          "output_type": "stream",
          "name": "stdout",
          "text": [
            "ozone std 32.98788451443395\n",
            "ozone std 31.5\n"
          ]
        }
      ]
    },
    {
      "cell_type": "code",
      "source": [
        "na_values=air.isnull().sum()\n",
        "print(\"Na values in each column:\\n\",na_values)\n",
        "\n",
        "air_cleaned=air.dropna(subset=['Ozone'])\n",
        "\n",
        "na_values=air_cleaned.isnull().sum()\n",
        "print(\"na values in each column\",na_values)"
      ],
      "metadata": {
        "colab": {
          "base_uri": "https://localhost:8080/"
        },
        "id": "rYaFs5zTtRY1",
        "outputId": "2fdf7b46-ca7a-4f57-8d9e-b0cdb843f2a1"
      },
      "execution_count": null,
      "outputs": [
        {
          "output_type": "stream",
          "name": "stdout",
          "text": [
            "Na values in each column:\n",
            " Unnamed: 0     0\n",
            "Ozone         37\n",
            "Solar.R        7\n",
            "Wind           0\n",
            "Temp           0\n",
            "Month          0\n",
            "Day            0\n",
            "dtype: int64\n",
            "na values in each column Unnamed: 0    0\n",
            "Ozone         0\n",
            "Solar.R       5\n",
            "Wind          0\n",
            "Temp          0\n",
            "Month         0\n",
            "Day           0\n",
            "dtype: int64\n"
          ]
        }
      ]
    },
    {
      "cell_type": "code",
      "source": [
        "print(air.head())\n",
        "\n",
        "ozone_mean=air['Solar.R'].mean()\n",
        "air['Solar.R'].fillna(ozone_mean,inplace=True)\n",
        "\n",
        "print(air['Solar.R'].isnull().sum())\n",
        "print(air.head())"
      ],
      "metadata": {
        "colab": {
          "base_uri": "https://localhost:8080/"
        },
        "id": "j0Jp08dmu1gV",
        "outputId": "de3c7b08-c84b-466e-b9d3-8830d96dfc5c"
      },
      "execution_count": null,
      "outputs": [
        {
          "output_type": "stream",
          "name": "stdout",
          "text": [
            "   Unnamed: 0  Ozone  Solar.R  Wind  Temp  Month  Day\n",
            "0           1   41.0    190.0   7.4    67      5    1\n",
            "1           2   36.0    118.0   8.0    72      5    2\n",
            "2           3   12.0    149.0  12.6    74      5    3\n",
            "3           4   18.0    313.0  11.5    62      5    4\n",
            "4           5    NaN      NaN  14.3    56      5    5\n",
            "0\n",
            "   Unnamed: 0  Ozone     Solar.R  Wind  Temp  Month  Day\n",
            "0           1   41.0  190.000000   7.4    67      5    1\n",
            "1           2   36.0  118.000000   8.0    72      5    2\n",
            "2           3   12.0  149.000000  12.6    74      5    3\n",
            "3           4   18.0  313.000000  11.5    62      5    4\n",
            "4           5    NaN  185.931507  14.3    56      5    5\n"
          ]
        }
      ]
    },
    {
      "cell_type": "code",
      "source": [],
      "metadata": {
        "id": "vHTC008twdbO"
      },
      "execution_count": null,
      "outputs": []
    }
  ]
}