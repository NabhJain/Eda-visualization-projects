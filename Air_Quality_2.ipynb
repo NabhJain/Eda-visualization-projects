{
  "cells": [
    {
      "cell_type": "code",
      "execution_count": null,
      "metadata": {
        "colab": {
          "base_uri": "https://localhost:8080/"
        },
        "id": "UujoHr_8rIo1",
        "outputId": "6576b18b-38fd-42fb-b429-458cd8354fd0"
      },
      "outputs": [
        {
          "output_type": "stream",
          "name": "stdout",
          "text": [
            "   Unnamed: 0  Ozone  Solar.R  Wind  Temp  Month  Day\n",
            "0           1   41.0    190.0   7.4    67      5    1\n",
            "1           2   36.0    118.0   8.0    72      5    2\n",
            "2           3   12.0    149.0  12.6    74      5    3\n",
            "3           4   18.0    313.0  11.5    62      5    4\n",
            "4           5    NaN      NaN  14.3    56      5    5\n"
          ]
        }
      ],
      "source": [
        "import pandas as pd\n",
        "file_path='airquality.csv'\n",
        "air=pd.read_csv(file_path)\n",
        "print(air.head())"
      ]
    },
    {
      "cell_type": "code",
      "execution_count": null,
      "metadata": {
        "colab": {
          "base_uri": "https://localhost:8080/"
        },
        "id": "wMrqzZmfsY_k",
        "outputId": "46000a3c-074e-4194-ea4f-109d3203af3e"
      },
      "outputs": [
        {
          "output_type": "stream",
          "name": "stdout",
          "text": [
            "Mean of Ozone: 42.12931034482759\n",
            "Mode of Ozone: 0    23.0\n",
            "Name: Ozone, dtype: float64\n",
            "Median of Ozone: 31.5\n"
          ]
        }
      ],
      "source": [
        "ozone_mean= air['Ozone'].mean()\n",
        "print(\"Mean of Ozone:\",ozone_mean)\n",
        "ozone_mode= air['Ozone'].mode()\n",
        "print(\"Mode of Ozone:\",ozone_mode)\n",
        "ozone_median= air['Ozone'].median()\n",
        "print(\"Median of Ozone:\", ozone_median)"
      ]
    },
    {
      "cell_type": "code",
      "execution_count": null,
      "metadata": {
        "colab": {
          "base_uri": "https://localhost:8080/"
        },
        "id": "-O5bGH5juhK9",
        "outputId": "25b13230-7866-425d-956f-e397b7ea5a1c"
      },
      "outputs": [
        {
          "output_type": "stream",
          "name": "stdout",
          "text": [
            "168.0\n",
            "1.0\n"
          ]
        }
      ],
      "source": [
        "max_ozone= air['Ozone'].max()\n",
        "print(max_ozone)\n",
        "\n",
        "min_ozone= air['Ozone'].min()\n",
        "print(min_ozone)"
      ]
    },
    {
      "cell_type": "code",
      "execution_count": null,
      "metadata": {
        "colab": {
          "base_uri": "https://localhost:8080/"
        },
        "id": "_2NNe54ruzFP",
        "outputId": "a586b66d-6f31-4c20-b6fb-f325119a5804"
      },
      "outputs": [
        {
          "output_type": "stream",
          "name": "stdout",
          "text": [
            "334.0\n",
            "7.0\n"
          ]
        }
      ],
      "source": [
        "max_solar=air['Solar.R'].max()\n",
        "print(max_solar)\n",
        "\n",
        "min_solar=air['Solar.R'].min()\n",
        "print(min_solar)"
      ]
    },
    {
      "cell_type": "code",
      "execution_count": null,
      "metadata": {
        "colab": {
          "base_uri": "https://localhost:8080/"
        },
        "id": "nQ6lSrxZtSzy",
        "outputId": "4b050c00-36a0-494a-a510-ed9ee192cc2f"
      },
      "outputs": [
        {
          "output_type": "stream",
          "name": "stdout",
          "text": [
            "Ozone- Standard Deviation: 32.98788451443395\n",
            "Solar.R- Standard Deviation: 90.05842222838167\n"
          ]
        }
      ],
      "source": [
        "ozone_std=air['Ozone'].std()\n",
        "ozone_median=air['Ozone'].median()\n",
        "solar_std=air['Solar.R'].std()\n",
        "solar_median=air['Solar.R'].median()\n",
        "print(\"Ozone- Standard Deviation:\", ozone_std)\n",
        "print(\"Solar.R- Standard Deviation:\", solar_std)"
      ]
    },
    {
      "cell_type": "code",
      "execution_count": null,
      "metadata": {
        "colab": {
          "base_uri": "https://localhost:8080/"
        },
        "id": "9NH6zHvGs_u3",
        "outputId": "9748230a-889b-4b25-bbad-f601cde15ebb"
      },
      "outputs": [
        {
          "output_type": "stream",
          "name": "stdout",
          "text": [
            "NA values in each column:\n",
            " Unnamed: 0     0\n",
            "Ozone         37\n",
            "Solar.R        7\n",
            "Wind           0\n",
            "Temp           0\n",
            "Month          0\n",
            "Day            0\n",
            "dtype: int64\n",
            "NA values in each column:\n",
            " Unnamed: 0    0\n",
            "Ozone         0\n",
            "Solar.R       5\n",
            "Wind          0\n",
            "Temp          0\n",
            "Month         0\n",
            "Day           0\n",
            "dtype: int64\n"
          ]
        }
      ],
      "source": [
        "na_values= air.isnull().sum()\n",
        "print(\"NA values in each column:\\n\", na_values)\n",
        "air_cleaned= air.dropna(subset=['Ozone'])\n",
        "na_values=air_cleaned.isnull().sum()\n",
        "print(\"NA values in each column:\\n\", na_values)"
      ]
    },
    {
      "cell_type": "code",
      "execution_count": null,
      "metadata": {
        "colab": {
          "base_uri": "https://localhost:8080/"
        },
        "id": "pIIZRgDQwKwo",
        "outputId": "04de9007-4cd2-4bfd-e2c3-b9722b698c09"
      },
      "outputs": [
        {
          "output_type": "stream",
          "name": "stdout",
          "text": [
            "   Unnamed: 0  Ozone  Solar.R  Wind  Temp  Month  Day\n",
            "0           1   41.0    190.0   7.4    67      5    1\n",
            "1           2   36.0    118.0   8.0    72      5    2\n",
            "2           3   12.0    149.0  12.6    74      5    3\n",
            "3           4   18.0    313.0  11.5    62      5    4\n",
            "4           5    NaN      NaN  14.3    56      5    5\n",
            "0\n",
            "   Unnamed: 0  Ozone     Solar.R  Wind  Temp  Month  Day\n",
            "0           1   41.0  190.000000   7.4    67      5    1\n",
            "1           2   36.0  118.000000   8.0    72      5    2\n",
            "2           3   12.0  149.000000  12.6    74      5    3\n",
            "3           4   18.0  313.000000  11.5    62      5    4\n",
            "4           5    NaN  185.931507  14.3    56      5    5\n"
          ]
        }
      ],
      "source": [
        "print(air.head())\n",
        "ozone_mean= air['Solar.R'].mean()\n",
        "air['Solar.R'].fillna(ozone_mean, inplace=True)\n",
        "print(air['Solar.R'].isnull().sum())\n",
        "print(air.head())"
      ]
    },
    {
      "cell_type": "code",
      "execution_count": null,
      "metadata": {
        "colab": {
          "base_uri": "https://localhost:8080/"
        },
        "id": "2XresI8_xb22",
        "outputId": "7906089b-1d90-4b8f-d71a-8294e8e8e9a4"
      },
      "outputs": [
        {
          "output_type": "stream",
          "name": "stdout",
          "text": [
            "   Unnamed: 0  Ozone     Solar.R  Wind  Temp  Month  Day\n",
            "0           1   41.0  190.000000   7.4    67      5    1\n",
            "1           2   36.0  118.000000   8.0    72      5    2\n",
            "2           3   12.0  149.000000  12.6    74      5    3\n",
            "3           4   18.0  313.000000  11.5    62      5    4\n",
            "4           5    NaN  185.931507  14.3    56      5    5\n",
            "0\n",
            "   Unnamed: 0  Ozone     Solar.R  Wind  Temp  Month  Day\n",
            "0           1   41.0  190.000000   7.4    67      5    1\n",
            "1           2   36.0  118.000000   8.0    72      5    2\n",
            "2           3   12.0  149.000000  12.6    74      5    3\n",
            "3           4   18.0  313.000000  11.5    62      5    4\n",
            "4           5    NaN  185.931507  14.3    56      5    5\n"
          ]
        }
      ],
      "source": [
        "print(air.head())\n",
        "ozone_median= air['Solar.R'].median()\n",
        "air['Solar.R'].fillna(ozone_median, inplace=True)\n",
        "print(air['Solar.R'].isnull().sum())\n",
        "print(air.head())"
      ]
    },
    {
      "cell_type": "code",
      "execution_count": null,
      "metadata": {
        "colab": {
          "base_uri": "https://localhost:8080/"
        },
        "id": "PndJT4yhyQN9",
        "outputId": "a933be16-40de-40dd-cc5e-83815af918dc"
      },
      "outputs": [
        {
          "output_type": "stream",
          "name": "stdout",
          "text": [
            "   Unnamed: 0  Ozone     Solar.R  Wind  Temp  Month  Day\n",
            "0           1   41.0  190.000000   7.4    67      5    1\n",
            "1           2   36.0  118.000000   8.0    72      5    2\n",
            "2           3   12.0  149.000000  12.6    74      5    3\n",
            "3           4   18.0  313.000000  11.5    62      5    4\n",
            "4           5    NaN  185.931507  14.3    56      5    5\n",
            "0\n",
            "   Unnamed: 0  Ozone     Solar.R  Wind  Temp  Month  Day\n",
            "0           1   41.0  190.000000   7.4    67      5    1\n",
            "1           2   36.0  118.000000   8.0    72      5    2\n",
            "2           3   12.0  149.000000  12.6    74      5    3\n",
            "3           4   18.0  313.000000  11.5    62      5    4\n",
            "4           5    NaN  185.931507  14.3    56      5    5\n"
          ]
        }
      ],
      "source": [
        "print(air.head())\n",
        "ozone_mode= air['Solar.R'].mode()[0]\n",
        "air['Solar.R'].fillna(ozone_mode, inplace=True)\n",
        "print(air['Solar.R'].isnull().sum())\n",
        "print(air.head())"
      ]
    },
    {
      "cell_type": "code",
      "execution_count": null,
      "metadata": {
        "colab": {
          "base_uri": "https://localhost:8080/"
        },
        "id": "3foookkNzOdB",
        "outputId": "3c90e82a-7796-4bb6-e3b3-3d996d48a9da"
      },
      "outputs": [
        {
          "output_type": "stream",
          "name": "stdout",
          "text": [
            "   Unnamed: 0  Ozone     Solar.R  Wind  Temp  Month  Day Solar.Danger\n",
            "0           1   41.0  190.000000   7.4    67      5    1          Yes\n",
            "1           2   36.0  118.000000   8.0    72      5    2          Yes\n",
            "2           3   12.0  149.000000  12.6    74      5    3          Yes\n",
            "3           4   18.0  313.000000  11.5    62      5    4          Yes\n",
            "4           5    NaN  185.931507  14.3    56      5    5          Yes\n"
          ]
        }
      ],
      "source": [
        "air['Solar.Danger']= air['Solar.R'].apply(lambda x: 'Yes' if x>100 else'No')\n",
        "print(air.head())"
      ]
    },
    {
      "cell_type": "code",
      "execution_count": null,
      "metadata": {
        "colab": {
          "base_uri": "https://localhost:8080/"
        },
        "id": "XwjKcnJd0yF_",
        "outputId": "6168eb1b-dcb6-48eb-e5aa-55c45843cd02"
      },
      "outputs": [
        {
          "output_type": "stream",
          "name": "stdout",
          "text": [
            "   Unnamed: 0  Ozone     Solar.R  Wind  Temp  Month  Day Solar.Danger  \\\n",
            "0           1   41.0  190.000000   7.4    67      5    1          Yes   \n",
            "1           2   36.0  118.000000   8.0    72      5    2          Yes   \n",
            "2           3   12.0  149.000000  12.6    74      5    3          Yes   \n",
            "3           4   18.0  313.000000  11.5    62      5    4          Yes   \n",
            "4           5    NaN  185.931507  14.3    56      5    5          Yes   \n",
            "\n",
            "  Solar.R.Interval  \n",
            "0          150-200  \n",
            "1          100-150  \n",
            "2          100-150  \n",
            "3          300-350  \n",
            "4          150-200  \n"
          ]
        }
      ],
      "source": [
        "bins=[0,50,100,150,200,250,300,350]\n",
        "labels= ['0-50', '50-100', '100-150', '150-200', '200-250', '250-300', '300-350']\n",
        "air['Solar.R.Interval']= pd.cut(air['Solar.R'], bins=bins, labels=labels, include_lowest=True)\n",
        "print(air.head())"
      ]
    },
    {
      "cell_type": "code",
      "execution_count": null,
      "metadata": {
        "colab": {
          "base_uri": "https://localhost:8080/"
        },
        "id": "OTzO7HUK2FiD",
        "outputId": "ce1c818e-f8dd-4c70-ca71-1a617bdab261"
      },
      "outputs": [
        {
          "output_type": "stream",
          "name": "stdout",
          "text": [
            "   Unnamed: 0  Ozone     Solar.R  Wind  Temp Month  Day Solar.Danger  \\\n",
            "0           1   41.0  190.000000   7.4    67   NaN    1          Yes   \n",
            "1           2   36.0  118.000000   8.0    72   NaN    2          Yes   \n",
            "2           3   12.0  149.000000  12.6    74   NaN    3          Yes   \n",
            "3           4   18.0  313.000000  11.5    62   NaN    4          Yes   \n",
            "4           5    NaN  185.931507  14.3    56   NaN    5          Yes   \n",
            "\n",
            "  Solar.R.Interval  \n",
            "0          150-200  \n",
            "1          100-150  \n",
            "2          100-150  \n",
            "3          300-350  \n",
            "4          150-200  \n"
          ]
        }
      ],
      "source": [
        "month_mapping= {5:'May', 6:'June', 7:'July', 8:'August', 9:'September'}\n",
        "air['Month']= air['Month'].map(month_mapping)\n",
        "print(air.head())"
      ]
    },
    {
      "cell_type": "code",
      "execution_count": null,
      "metadata": {
        "colab": {
          "base_uri": "https://localhost:8080/"
        },
        "id": "elPOLulg4avU",
        "outputId": "a3af9741-f9f1-4015-d195-571f12eebee5"
      },
      "outputs": [
        {
          "output_type": "stream",
          "name": "stdout",
          "text": [
            "   Unnamed: 0  Ozone     Solar.R  Wind  Temp Month  Day Solar.Danger  \\\n",
            "0           1   41.0  190.000000   7.4    67   NaN    1          Yes   \n",
            "1           2   36.0  118.000000   8.0    72   NaN    2          Yes   \n",
            "2           3   12.0  149.000000  12.6    74   NaN    3          Yes   \n",
            "3           4   18.0  313.000000  11.5    62   NaN    4          Yes   \n",
            "4           5    NaN  185.931507  14.3    56   NaN    5          Yes   \n",
            "\n",
            "  Solar.R.Interval  \n",
            "0          150-200  \n",
            "1          100-150  \n",
            "2          100-150  \n",
            "3          300-350  \n",
            "4          150-200  \n"
          ]
        }
      ],
      "source": [
        "air_loop =air.copy()\n",
        "for index, row in air_loop.iterrows():\n",
        "  air_loop.at[index,'Month']= month_mapping.get(row['Month'], row['Month'])\n",
        "print(air_loop.head())"
      ]
    },
    {
      "cell_type": "code",
      "execution_count": null,
      "metadata": {
        "colab": {
          "base_uri": "https://localhost:8080/"
        },
        "id": "8Cnaew6P6kVH",
        "outputId": "50945b1d-01fd-4471-adae-99664bb1a725"
      },
      "outputs": [
        {
          "name": "stdout",
          "output_type": "stream",
          "text": [
            "Number of duplicate rows: 0\n",
            "Number of rows after removing duplicates: 153\n"
          ]
        }
      ],
      "source": [
        "air_no_duplicates= air.drop_duplicates()\n",
        "print(\"Number of duplicate rows:\", air.duplicated().sum())\n",
        "print(\"Number of rows after removing duplicates:\", len(air_no_duplicates))"
      ]
    },
    {
      "cell_type": "code",
      "execution_count": null,
      "metadata": {
        "colab": {
          "base_uri": "https://localhost:8080/"
        },
        "id": "9RyJQvpU7ema",
        "outputId": "abb6d16d-5040-49a4-aa51-2c4b2e58bb3b"
      },
      "outputs": [
        {
          "name": "stdout",
          "output_type": "stream",
          "text": [
            "   Unnamed: 0  Ozone     Solar.R  Wind  Temp Month  Day Solar.Danger  \\\n",
            "0           1   41.0  190.000000   7.4    67   May    1          Yes   \n",
            "1           2   36.0  118.000000   8.0    72   May    2          Yes   \n",
            "2           3   12.0  149.000000  12.6    74   May    3          Yes   \n",
            "3           4   18.0  313.000000  11.5    62   May    4          Yes   \n",
            "4           5    NaN  185.931507  14.3    56   May    5          Yes   \n",
            "\n",
            "  Solar.R.Interval  \n",
            "0          150-200  \n",
            "1          100-150  \n",
            "2          100-150  \n",
            "3          300-350  \n",
            "4          150-200  \n",
            "Unnamed: 0             int64\n",
            "Ozone                float64\n",
            "Solar.R              float64\n",
            "Wind                 float64\n",
            "Temp                   int64\n",
            "Month                 object\n",
            "Day                    int64\n",
            "Solar.Danger          object\n",
            "Solar.R.Interval    category\n",
            "dtype: object\n",
            "Unnamed: 0             int64\n",
            "Ozone                float64\n",
            "Solar.R              float64\n",
            "Wind                   int64\n",
            "Temp                   int64\n",
            "Month                 object\n",
            "Day                    int64\n",
            "Solar.Danger          object\n",
            "Solar.R.Interval    category\n",
            "dtype: object\n",
            "   Unnamed: 0  Ozone     Solar.R  Wind  Temp Month  Day Solar.Danger  \\\n",
            "0           1   41.0  190.000000     7    67   May    1          Yes   \n",
            "1           2   36.0  118.000000     8    72   May    2          Yes   \n",
            "2           3   12.0  149.000000    12    74   May    3          Yes   \n",
            "3           4   18.0  313.000000    11    62   May    4          Yes   \n",
            "4           5    NaN  185.931507    14    56   May    5          Yes   \n",
            "\n",
            "  Solar.R.Interval  \n",
            "0          150-200  \n",
            "1          100-150  \n",
            "2          100-150  \n",
            "3          300-350  \n",
            "4          150-200  \n"
          ]
        }
      ],
      "source": [
        "print(air.head())\n",
        "print(air.dtypes)\n",
        "air['Wind']= air['Wind'].astype(int)\n",
        "print(air.dtypes)\n",
        "print(air.head())"
      ]
    },
    {
      "cell_type": "code",
      "execution_count": null,
      "metadata": {
        "colab": {
          "base_uri": "https://localhost:8080/"
        },
        "id": "nDQWN-iC9XOF",
        "outputId": "7d5b666b-e034-483f-be95-6ac0d83d039e"
      },
      "outputs": [
        {
          "name": "stdout",
          "output_type": "stream",
          "text": [
            "Requirement already satisfied: scikit-learn in /usr/local/lib/python3.10/dist-packages (1.3.2)\n",
            "Requirement already satisfied: numpy<2.0,>=1.17.3 in /usr/local/lib/python3.10/dist-packages (from scikit-learn) (1.26.4)\n",
            "Requirement already satisfied: scipy>=1.5.0 in /usr/local/lib/python3.10/dist-packages (from scikit-learn) (1.13.1)\n",
            "Requirement already satisfied: joblib>=1.1.1 in /usr/local/lib/python3.10/dist-packages (from scikit-learn) (1.4.2)\n",
            "Requirement already satisfied: threadpoolctl>=2.0.0 in /usr/local/lib/python3.10/dist-packages (from scikit-learn) (3.5.0)\n"
          ]
        }
      ],
      "source": [
        "pip install scikit-learn"
      ]
    },
    {
      "cell_type": "code",
      "execution_count": null,
      "metadata": {
        "colab": {
          "base_uri": "https://localhost:8080/"
        },
        "id": "IxTdRb-L8WvH",
        "outputId": "e3a0150b-efac-45ad-99a8-a73a5f10bb85"
      },
      "outputs": [
        {
          "name": "stdout",
          "output_type": "stream",
          "text": [
            "   Ozone     Solar.R\n",
            "0   41.0  190.000000\n",
            "1   36.0  118.000000\n",
            "2   12.0  149.000000\n",
            "3   18.0  313.000000\n",
            "4    NaN  185.931507\n",
            "      Ozone   Solar.R\n",
            "0  0.239521  0.559633\n",
            "1  0.209581  0.339450\n",
            "2  0.065868  0.434251\n",
            "3  0.101796  0.935780\n",
            "4       NaN  0.547191\n"
          ]
        }
      ],
      "source": [
        "from sklearn.preprocessing import MinMaxScaler\n",
        "print(air[['Ozone', 'Solar.R']].head())\n",
        "scaler= MinMaxScaler()\n",
        "air[['Ozone', 'Solar.R']]= scaler.fit_transform(air[['Ozone', 'Solar.R']])\n",
        "print(air[['Ozone', 'Solar.R']].head())"
      ]
    },
    {
      "cell_type": "code",
      "execution_count": null,
      "metadata": {
        "colab": {
          "base_uri": "https://localhost:8080/"
        },
        "id": "IGwj2bDG_uzN",
        "outputId": "5baadac4-982f-44dd-a8a5-a963e87aada9"
      },
      "outputs": [
        {
          "name": "stdout",
          "output_type": "stream",
          "text": [
            "['May' 'June' 'July' 'August' 'September']\n",
            "['May' 'June' 'July' 'August' 'September']\n"
          ]
        }
      ],
      "source": [
        "print(air['Month'].unique())\n",
        "air['Month']= air['Month'].str.capitalize()\n",
        "\n",
        "print(air['Month'].unique())"
      ]
    },
    {
      "cell_type": "code",
      "execution_count": null,
      "metadata": {
        "colab": {
          "base_uri": "https://localhost:8080/"
        },
        "id": "TRQy5nVBAU_t",
        "outputId": "0b2aa261-0fe3-49f8-f0a0-3bcf97602d0a"
      },
      "outputs": [
        {
          "name": "stdout",
          "output_type": "stream",
          "text": [
            "Index(['Unnamed: 0', 'Ozone', 'Solar.R', 'Wind', 'Month', 'Day',\n",
            "       'Solar.Danger', 'Solar.R.Interval'],\n",
            "      dtype='object')\n"
          ]
        }
      ],
      "source": [
        "air_cleaned= air.drop(['Temp'], axis=1)\n",
        "print(air_cleaned.columns)"
      ]
    }
  ],
  "metadata": {
    "colab": {
      "provenance": []
    },
    "kernelspec": {
      "display_name": "Python 3",
      "name": "python3"
    },
    "language_info": {
      "name": "python"
    }
  },
  "nbformat": 4,
  "nbformat_minor": 0
}