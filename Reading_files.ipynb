{
  "nbformat": 4,
  "nbformat_minor": 0,
  "metadata": {
    "colab": {
      "provenance": []
    },
    "kernelspec": {
      "name": "python3",
      "display_name": "Python 3"
    },
    "language_info": {
      "name": "python"
    }
  },
  "cells": [
    {
      "cell_type": "markdown",
      "source": [
        "**Creating an Empty Text file**"
      ],
      "metadata": {
        "id": "irZelCnln7Em"
      }
    },
    {
      "cell_type": "code",
      "source": [
        "f=open(\"sample text file.txt\",\"w+\")\n",
        "f.write(\"My Name is Nabh\")\n",
        "f.close()"
      ],
      "metadata": {
        "id": "uQM2Q7Sjn-HH"
      },
      "execution_count": null,
      "outputs": []
    },
    {
      "cell_type": "markdown",
      "source": [
        "**Writing single and multiple lines in a text file**"
      ],
      "metadata": {
        "id": "hBRB6Hm6pXFv"
      }
    },
    {
      "cell_type": "code",
      "source": [
        "f=open(\"sample text file 2.txt\",\"w+\")\n",
        "for i in range(10):\n",
        "  f.write(\"This is line %d\\r\\n\"% (i+1))\n",
        "f.close()"
      ],
      "metadata": {
        "id": "uVnLzizNpNYe"
      },
      "execution_count": null,
      "outputs": []
    },
    {
      "cell_type": "markdown",
      "source": [
        "**Reading Text File**"
      ],
      "metadata": {
        "id": "v6pVJ8gVqmsE"
      }
    },
    {
      "cell_type": "code",
      "source": [
        "f=open(\"sample text file.txt\",\"r\")\n",
        "if f.mode=='r':\n",
        "  contents=f.read()\n",
        "  #print(contents)\n",
        "f.close()\n",
        "print(contents)\n",
        "print(\"hello world\")"
      ],
      "metadata": {
        "colab": {
          "base_uri": "https://localhost:8080/"
        },
        "id": "hLslconFpyKn",
        "outputId": "2a10b4ef-ba51-43ea-9ad6-28e3dbab34b9"
      },
      "execution_count": null,
      "outputs": [
        {
          "output_type": "stream",
          "name": "stdout",
          "text": [
            "My Name is Nabh\n",
            "hello world\n"
          ]
        }
      ]
    },
    {
      "cell_type": "markdown",
      "source": [
        "**Exception Handling**"
      ],
      "metadata": {
        "id": "pc4VaK0JtYNW"
      }
    },
    {
      "cell_type": "code",
      "source": [
        "try:\n",
        "  f=open(\"sample text file.txt\",\"r\")\n",
        "  #f.write(\"My name is Nabh\")\n",
        "  f.close()\n",
        "except Exception as e:\n",
        "  print(e)\n",
        "else:\n",
        "  print(\"File created successfully\")\n",
        "print(\"Hello World\")"
      ],
      "metadata": {
        "colab": {
          "base_uri": "https://localhost:8080/"
        },
        "id": "7RkH_x19tcqd",
        "outputId": "67d8d3c0-487d-41c1-c0e3-13c708acdc2a"
      },
      "execution_count": null,
      "outputs": [
        {
          "output_type": "stream",
          "name": "stdout",
          "text": [
            "File created successfully\n",
            "Hello World\n"
          ]
        }
      ]
    },
    {
      "cell_type": "markdown",
      "source": [
        "**Reading Excel File using Pandas Package**"
      ],
      "metadata": {
        "id": "Oe2RgmcXvFFC"
      }
    },
    {
      "cell_type": "code",
      "source": [
        "#Import Pandas Library\n",
        "import pandas as pd\n",
        "\n",
        "#Assign spreadsheet filename to 'file'\n",
        "file=\"nabh Jain.xlsx\"\n",
        "\n",
        "#Load the sreadsheet\n",
        "x1=pd.ExcelFile(file)\n",
        "\n",
        "#Print the sheet names\n",
        "print(x1.sheet_names)\n",
        "\n",
        "#load a sheet into a dataframe by name 'df1'\n",
        "df1=x1.parse('Sheet1')\n",
        "\n",
        "#print the values of dataframe 'df1'\n",
        "print(df1)"
      ],
      "metadata": {
        "colab": {
          "base_uri": "https://localhost:8080/"
        },
        "id": "7kyfV9z8s9EN",
        "outputId": "99b8edfb-1a19-4e87-989d-6f82c5a47c08"
      },
      "execution_count": null,
      "outputs": [
        {
          "output_type": "stream",
          "name": "stdout",
          "text": [
            "['Sheet1']\n",
            "   S.No   COMPANY MODEL\n",
            "0     1      audi    q7\n",
            "1     2       bmw    x7\n",
            "2     3  mercedes   gls\n"
          ]
        }
      ]
    },
    {
      "cell_type": "markdown",
      "source": [
        "**Writing Excel File using Pandas Package**"
      ],
      "metadata": {
        "id": "DkrkIa21zHBQ"
      }
    },
    {
      "cell_type": "code",
      "source": [
        "import pandas as pd\n",
        "import openpyxl\n",
        "df=pd.DataFrame([[11,21,31],[12,22,32],[31,32,33]])\n",
        "print(df)\n",
        "#Writing contents to dataframe df to the excelsheet\n",
        "df.to_excel('pandas to excel.xlsx',index=False,header=False)"
      ],
      "metadata": {
        "colab": {
          "base_uri": "https://localhost:8080/"
        },
        "id": "fe0D3YU-q9vG",
        "outputId": "bb24770f-95e3-49d5-f272-1369a8139733"
      },
      "execution_count": null,
      "outputs": [
        {
          "output_type": "stream",
          "name": "stdout",
          "text": [
            "    0   1   2\n",
            "0  11  21  31\n",
            "1  12  22  32\n",
            "2  31  32  33\n"
          ]
        }
      ]
    },
    {
      "cell_type": "markdown",
      "source": [
        "**Reading a CSV File**"
      ],
      "metadata": {
        "id": "jRqdb4np2B_X"
      }
    },
    {
      "cell_type": "code",
      "source": [
        "#Import Pandas Library\n",
        "import pandas as pd\n",
        "df=pd.read_csv('nabh Jain.csv')\n",
        "print(df)"
      ],
      "metadata": {
        "colab": {
          "base_uri": "https://localhost:8080/"
        },
        "id": "q1sXUqYqzgoU",
        "outputId": "7c419f12-54f8-4144-93e4-dd5179985fdb"
      },
      "execution_count": null,
      "outputs": [
        {
          "output_type": "stream",
          "name": "stdout",
          "text": [
            "   S.no      company    model\n",
            "0     1  lamborghini     urus\n",
            "1     2     mercedes  gls 600\n",
            "2     3          bmw       x7\n"
          ]
        }
      ]
    },
    {
      "cell_type": "markdown",
      "source": [
        "**Writing a csv**"
      ],
      "metadata": {
        "id": "6x6miUaE5k7E"
      }
    },
    {
      "cell_type": "code",
      "source": [
        "import pandas as pd\n",
        "import openpyxl\n",
        "df=pd.DataFrame([[11,21,31],[12,22,32],[31,32,33]])\n",
        "print(df)\n",
        "df.to_csv('myfile.csv')\n",
        "df.to_csv('myfile.csv',index=False,header=False)"
      ],
      "metadata": {
        "colab": {
          "base_uri": "https://localhost:8080/"
        },
        "id": "vdZDUNj02fR2",
        "outputId": "18cf2d97-6ae6-4693-c075-bf4f2bb5f3f1"
      },
      "execution_count": null,
      "outputs": [
        {
          "output_type": "stream",
          "name": "stdout",
          "text": [
            "    0   1   2\n",
            "0  11  21  31\n",
            "1  12  22  32\n",
            "2  31  32  33\n"
          ]
        }
      ]
    },
    {
      "cell_type": "code",
      "source": [
        "file_name='nabh'\n",
        "f=open(\"file_name.txt\",\"w+\")\n",
        "name='nabh'\n",
        "f.write(\"My Name is Nabh\")\n",
        "f.close()\n",
        "name"
      ],
      "metadata": {
        "colab": {
          "base_uri": "https://localhost:8080/",
          "height": 35
        },
        "id": "BBHxkquo5Yrm",
        "outputId": "660e5466-5d2e-483e-b994-f1baf4b6b338"
      },
      "execution_count": null,
      "outputs": [
        {
          "output_type": "execute_result",
          "data": {
            "text/plain": [
              "'nabh'"
            ],
            "application/vnd.google.colaboratory.intrinsic+json": {
              "type": "string"
            }
          },
          "metadata": {},
          "execution_count": 42
        }
      ]
    },
    {
      "cell_type": "code",
      "source": [],
      "metadata": {
        "id": "riCYCzvY52oL"
      },
      "execution_count": null,
      "outputs": []
    }
  ]
}