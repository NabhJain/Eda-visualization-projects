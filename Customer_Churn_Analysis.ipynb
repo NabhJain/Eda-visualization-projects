{
  "nbformat": 4,
  "nbformat_minor": 0,
  "metadata": {
    "colab": {
      "provenance": []
    },
    "kernelspec": {
      "name": "python3",
      "display_name": "Python 3"
    },
    "language_info": {
      "name": "python"
    }
  },
  "cells": [
    {
      "cell_type": "markdown",
      "source": [
        "**Data Manipulation and Transformation**"
      ],
      "metadata": {
        "id": "0N__7EsFqVLE"
      }
    },
    {
      "cell_type": "code",
      "execution_count": null,
      "metadata": {
        "colab": {
          "base_uri": "https://localhost:8080/"
        },
        "id": "uGW-I8l3oVdF",
        "outputId": "8ae52b31-9281-49a4-b7cf-c1cd552cca3c"
      },
      "outputs": [
        {
          "output_type": "stream",
          "name": "stdout",
          "text": [
            "   customerID  gender  SeniorCitizen Partner Dependents  tenure PhoneService  \\\n",
            "0  7590-VHVEG  Female              0     Yes         No     NaN           No   \n",
            "1  5575-GNVDE    Male              0      No         No     NaN          Yes   \n",
            "2  3668-QPYBK    Male              0      No         No     NaN          Yes   \n",
            "3  7795-CFOCW    Male              0      No         No     NaN           No   \n",
            "4  9237-HQITU  Female              0      No         No     NaN          Yes   \n",
            "\n",
            "      MultipleLines InternetService OnlineSecurity  ... DeviceProtection  \\\n",
            "0  No phone service             DSL             No  ...               No   \n",
            "1                No             DSL            Yes  ...              Yes   \n",
            "2                No             DSL            Yes  ...               No   \n",
            "3  No phone service             DSL            Yes  ...              Yes   \n",
            "4                No     Fiber optic             No  ...               No   \n",
            "\n",
            "  TechSupport StreamingTV StreamingMovies        Contract PaperlessBilling  \\\n",
            "0          No          No              No  Month-to-month              Yes   \n",
            "1          No          No              No        One year               No   \n",
            "2          No          No              No  Month-to-month              Yes   \n",
            "3         Yes          No              No        One year               No   \n",
            "4          No          No              No  Month-to-month              Yes   \n",
            "\n",
            "               PaymentMethod MonthlyCharges  TotalCharges Churn  \n",
            "0           Electronic check          29.85         29.85    No  \n",
            "1               Mailed check          56.95        1889.5    No  \n",
            "2               Mailed check          53.85        108.15   Yes  \n",
            "3  Bank transfer (automatic)          42.30       1840.75    No  \n",
            "4           Electronic check          70.70        151.65   Yes  \n",
            "\n",
            "[5 rows x 21 columns]\n",
            "<class 'pandas.core.frame.DataFrame'>\n",
            "RangeIndex: 7043 entries, 0 to 7042\n",
            "Data columns (total 21 columns):\n",
            " #   Column            Non-Null Count  Dtype  \n",
            "---  ------            --------------  -----  \n",
            " 0   customerID        7043 non-null   object \n",
            " 1   gender            7043 non-null   object \n",
            " 2   SeniorCitizen     7043 non-null   int64  \n",
            " 3   Partner           7036 non-null   object \n",
            " 4   Dependents        7036 non-null   object \n",
            " 5   tenure            7027 non-null   float64\n",
            " 6   PhoneService      7043 non-null   object \n",
            " 7   MultipleLines     7043 non-null   object \n",
            " 8   InternetService   7043 non-null   object \n",
            " 9   OnlineSecurity    7043 non-null   object \n",
            " 10  OnlineBackup      7043 non-null   object \n",
            " 11  DeviceProtection  7043 non-null   object \n",
            " 12  TechSupport       7043 non-null   object \n",
            " 13  StreamingTV       7043 non-null   object \n",
            " 14  StreamingMovies   7043 non-null   object \n",
            " 15  Contract          7043 non-null   object \n",
            " 16  PaperlessBilling  7043 non-null   object \n",
            " 17  PaymentMethod     7043 non-null   object \n",
            " 18  MonthlyCharges    7043 non-null   float64\n",
            " 19  TotalCharges      7043 non-null   object \n",
            " 20  Churn             7043 non-null   object \n",
            "dtypes: float64(2), int64(1), object(18)\n",
            "memory usage: 1.1+ MB\n",
            "None\n",
            "       SeniorCitizen       tenure  MonthlyCharges\n",
            "count    7043.000000  7027.000000     7043.000000\n",
            "mean        0.162147    32.383948       64.761692\n",
            "std         0.368612    24.561002       30.090047\n",
            "min         0.000000     0.000000       18.250000\n",
            "25%         0.000000     9.000000       35.500000\n",
            "50%         0.000000    29.000000       70.350000\n",
            "75%         0.000000    55.000000       89.850000\n",
            "max         1.000000    72.000000      118.750000\n"
          ]
        }
      ],
      "source": [
        "import pandas as pd\n",
        "\n",
        "#Read the csv file\n",
        "df=pd.read_csv('customer_churn.csv')\n",
        "\n",
        "#Display the first few rows of the dataframe\n",
        "print(df.head())\n",
        "\n",
        "#Display the summary of the data sheet\n",
        "print(df.info())\n",
        "\n",
        "#View discriptive status\n",
        "print(df.describe())"
      ]
    },
    {
      "cell_type": "markdown",
      "source": [
        "**Data Sorting**"
      ],
      "metadata": {
        "id": "PIyIkxCttTkp"
      }
    },
    {
      "cell_type": "code",
      "source": [
        "#Sort the data by tenure in descending order\n",
        "df_sorted=df.sort_values(by='tenure',ascending=False)\n",
        "\n",
        "#Display the sorted data\n",
        "print(df_sorted.head())"
      ],
      "metadata": {
        "colab": {
          "base_uri": "https://localhost:8080/"
        },
        "id": "SBPoZqFNsaE6",
        "outputId": "6f2a17e8-aaf6-4f86-ab56-8816bf51e605"
      },
      "execution_count": null,
      "outputs": [
        {
          "output_type": "stream",
          "name": "stdout",
          "text": [
            "      customerID  gender  SeniorCitizen Partner Dependents  tenure  \\\n",
            "1363  3084-DOWLE  Female              0     Yes         No    72.0   \n",
            "1226  7115-IRDHS  Female              0     Yes         No    72.0   \n",
            "3111  8809-RIHDD    Male              0     Yes        Yes    72.0   \n",
            "3112  8809-XKHMD    Male              0     Yes         No    72.0   \n",
            "3131  8336-TAVKX  Female              1     Yes         No    72.0   \n",
            "\n",
            "     PhoneService MultipleLines InternetService       OnlineSecurity  ...  \\\n",
            "1363          Yes           Yes             DSL                  Yes  ...   \n",
            "1226          Yes           Yes              No  No internet service  ...   \n",
            "3111          Yes           Yes     Fiber optic                   No  ...   \n",
            "3112          Yes           Yes     Fiber optic                  Yes  ...   \n",
            "3131          Yes           Yes             DSL                  Yes  ...   \n",
            "\n",
            "         DeviceProtection          TechSupport          StreamingTV  \\\n",
            "1363                  Yes                  Yes                  Yes   \n",
            "1226  No internet service  No internet service  No internet service   \n",
            "3111                  Yes                   No                  Yes   \n",
            "3112                   No                  Yes                   No   \n",
            "3131                  Yes                  Yes                   No   \n",
            "\n",
            "          StreamingMovies  Contract PaperlessBilling  \\\n",
            "1363                  Yes  Two year               No   \n",
            "1226  No internet service  Two year               No   \n",
            "3111                  Yes  Two year              Yes   \n",
            "3112                  Yes  Two year              Yes   \n",
            "3131                  Yes  Two year               No   \n",
            "\n",
            "                  PaymentMethod MonthlyCharges  TotalCharges Churn  \n",
            "1363  Bank transfer (automatic)          92.00        6474.4    No  \n",
            "1226  Bank transfer (automatic)          24.65       1830.05    No  \n",
            "3111           Electronic check         103.40       7372.65   Yes  \n",
            "3112  Bank transfer (automatic)         100.55        7325.1    No  \n",
            "3131  Bank transfer (automatic)          78.45       5682.25    No  \n",
            "\n",
            "[5 rows x 21 columns]\n"
          ]
        }
      ]
    },
    {
      "cell_type": "code",
      "source": [
        "#Sort the data by tenure in ascending order\n",
        "df_sorted=df.sort_values(by='tenure',ascending=True)\n",
        "\n",
        "#Display the sorted data\n",
        "print(df_sorted.head())"
      ],
      "metadata": {
        "colab": {
          "base_uri": "https://localhost:8080/"
        },
        "id": "ceSaeCPztJqU",
        "outputId": "4438b3b9-3bc1-49ef-f215-61c9c52aa0b7"
      },
      "execution_count": null,
      "outputs": [
        {
          "output_type": "stream",
          "name": "stdout",
          "text": [
            "      customerID  gender  SeniorCitizen Partner Dependents  tenure  \\\n",
            "5218  2923-ARZLG    Male              0     Yes        Yes     0.0   \n",
            "1082  4367-NUYAO    Male              0     Yes        Yes     0.0   \n",
            "6670  4075-WKNIU  Female              0     Yes        Yes     0.0   \n",
            "6754  2775-SEFEE    Male              0      No        Yes     0.0   \n",
            "3826  3213-VVOLG    Male              0     Yes        Yes     0.0   \n",
            "\n",
            "     PhoneService MultipleLines InternetService       OnlineSecurity  ...  \\\n",
            "5218          Yes            No              No  No internet service  ...   \n",
            "1082          Yes           Yes              No  No internet service  ...   \n",
            "6670          Yes           Yes             DSL                   No  ...   \n",
            "6754          Yes           Yes             DSL                  Yes  ...   \n",
            "3826          Yes           Yes              No  No internet service  ...   \n",
            "\n",
            "         DeviceProtection          TechSupport          StreamingTV  \\\n",
            "5218  No internet service  No internet service  No internet service   \n",
            "1082  No internet service  No internet service  No internet service   \n",
            "6670                  Yes                  Yes                  Yes   \n",
            "6754                   No                  Yes                   No   \n",
            "3826  No internet service  No internet service  No internet service   \n",
            "\n",
            "          StreamingMovies  Contract PaperlessBilling  \\\n",
            "5218  No internet service  One year              Yes   \n",
            "1082  No internet service  Two year               No   \n",
            "6670                   No  Two year               No   \n",
            "6754                   No  Two year              Yes   \n",
            "3826  No internet service  Two year               No   \n",
            "\n",
            "                  PaymentMethod MonthlyCharges  TotalCharges Churn  \n",
            "5218               Mailed check          19.70                  No  \n",
            "1082               Mailed check          25.75                  No  \n",
            "6670               Mailed check          73.35                  No  \n",
            "6754  Bank transfer (automatic)          61.90                  No  \n",
            "3826               Mailed check          25.35                  No  \n",
            "\n",
            "[5 rows x 21 columns]\n"
          ]
        }
      ]
    },
    {
      "cell_type": "markdown",
      "source": [
        "**Modifying exsisting variables or convert them into new categorical values**"
      ],
      "metadata": {
        "id": "D5-DNnVWuuMn"
      }
    },
    {
      "cell_type": "code",
      "source": [
        "#Recode 'SeniorCitizen' as 'Yes' or 'No'\n",
        "df['SeniorCitizen']=df['SeniorCitizen'].map({1:'Yes',0:'No'})\n",
        "\n",
        "#Display the updated column\n",
        "print(df[['SeniorCitizen']].head())"
      ],
      "metadata": {
        "colab": {
          "base_uri": "https://localhost:8080/"
        },
        "id": "esFYcjagtSS6",
        "outputId": "16425923-6942-43ba-ea7d-d20d49e3d0a1"
      },
      "execution_count": null,
      "outputs": [
        {
          "output_type": "stream",
          "name": "stdout",
          "text": [
            "  SeniorCitizen\n",
            "0            No\n",
            "1            No\n",
            "2            No\n",
            "3            No\n",
            "4            No\n"
          ]
        }
      ]
    },
    {
      "cell_type": "markdown",
      "source": [
        "**Add new calculated column**"
      ],
      "metadata": {
        "id": "7Fu9HBk-wtTC"
      }
    },
    {
      "cell_type": "code",
      "source": [
        "#Create a new variable 'MonthlyChargePerYear'\n",
        "df['MonthlyChargesPerYear']=df['MonthlyCharges']* 12\n",
        "\n",
        "#Display the new column\n",
        "print(df[['MonthlyCharges','MonthlyChargesPerYear']].head())"
      ],
      "metadata": {
        "colab": {
          "base_uri": "https://localhost:8080/"
        },
        "id": "OnJtDEHgurlr",
        "outputId": "24285f85-5bb1-4355-a99b-e62c6f2c4fca"
      },
      "execution_count": null,
      "outputs": [
        {
          "output_type": "stream",
          "name": "stdout",
          "text": [
            "   MonthlyCharges  MonthlyChargesPerYear\n",
            "0           29.85                  358.2\n",
            "1           56.95                  683.4\n",
            "2           53.85                  646.2\n",
            "3           42.30                  507.6\n",
            "4           70.70                  848.4\n"
          ]
        }
      ]
    },
    {
      "cell_type": "code",
      "source": [
        "#Create a new variable 'MonthlyChargePerYear'\n",
        "df['MonthlyChargesPerYear']=df['MonthlyCharges']* df['tenure']\n",
        "\n",
        "#Display the new column\n",
        "print(df[['MonthlyCharges','MonthlyChargesPerYear']].head())"
      ],
      "metadata": {
        "colab": {
          "base_uri": "https://localhost:8080/"
        },
        "id": "iQwmd7wRwavc",
        "outputId": "034d1b4f-dd12-4472-b3a6-fd82332b39f6"
      },
      "execution_count": null,
      "outputs": [
        {
          "output_type": "stream",
          "name": "stdout",
          "text": [
            "   MonthlyCharges  MonthlyChargesPerYear\n",
            "0           29.85                    NaN\n",
            "1           56.95                    NaN\n",
            "2           53.85                    NaN\n",
            "3           42.30                    NaN\n",
            "4           70.70                    NaN\n"
          ]
        }
      ]
    },
    {
      "cell_type": "code",
      "source": [
        "#Select customers with tenure greater than 24 months\n",
        "df_subset=df[df['tenure']>24]\n",
        "\n",
        "#Display the subset\n",
        "print(df_subset.head())"
      ],
      "metadata": {
        "colab": {
          "base_uri": "https://localhost:8080/"
        },
        "id": "c5ry6_E4xkz_",
        "outputId": "046c1234-a287-4899-d6b2-1bfe2c65d932"
      },
      "execution_count": null,
      "outputs": [
        {
          "output_type": "stream",
          "name": "stdout",
          "text": [
            "    customerID  gender SeniorCitizen Partner Dependents  tenure PhoneService  \\\n",
            "8   7892-POOKP  Female            No     Yes         No    28.0          Yes   \n",
            "9   6388-TABGU    Male            No      No        Yes    62.0          Yes   \n",
            "12  8091-TTVAX    Male            No     Yes         No    58.0          Yes   \n",
            "23  3638-WEABW  Female            No     Yes        NaN    58.0          Yes   \n",
            "24  6322-HRPFA    Male            No     Yes        NaN    49.0          Yes   \n",
            "\n",
            "   MultipleLines InternetService OnlineSecurity  ... TechSupport StreamingTV  \\\n",
            "8            Yes     Fiber optic             No  ...         Yes         Yes   \n",
            "9             No             DSL            Yes  ...          No          No   \n",
            "12           Yes     Fiber optic             No  ...          No         Yes   \n",
            "23           Yes             DSL             No  ...         Yes          No   \n",
            "24            No             DSL            Yes  ...         Yes          No   \n",
            "\n",
            "   StreamingMovies        Contract PaperlessBilling  \\\n",
            "8              Yes  Month-to-month              Yes   \n",
            "9               No        One year               No   \n",
            "12             Yes        One year               No   \n",
            "23              No        Two year              Yes   \n",
            "24              No  Month-to-month               No   \n",
            "\n",
            "                PaymentMethod MonthlyCharges TotalCharges  Churn  \\\n",
            "8            Electronic check         104.80      3046.05    Yes   \n",
            "9   Bank transfer (automatic)          56.15      3487.95     No   \n",
            "12    Credit card (automatic)         100.35       5681.1     No   \n",
            "23    Credit card (automatic)          59.90       3505.1     No   \n",
            "24    Credit card (automatic)          59.60       2970.3     No   \n",
            "\n",
            "   MonthlyChargesPerYear  \n",
            "8                 2934.4  \n",
            "9                 3481.3  \n",
            "12                5820.3  \n",
            "23                3474.2  \n",
            "24                2920.4  \n",
            "\n",
            "[5 rows x 22 columns]\n"
          ]
        }
      ]
    },
    {
      "cell_type": "code",
      "source": [
        "#Select customers with 'Chrun' equals 'Yes'\n",
        "df_churned=df[df['Churn']=='Yes']\n",
        "\n",
        "#Display the subset\n",
        "print(df_churned.head())"
      ],
      "metadata": {
        "colab": {
          "base_uri": "https://localhost:8080/"
        },
        "id": "hDCDpHR9yKyE",
        "outputId": "59dde659-c8c3-442b-e826-bfcb57674c0c"
      },
      "execution_count": null,
      "outputs": [
        {
          "output_type": "stream",
          "name": "stdout",
          "text": [
            "    customerID  gender SeniorCitizen Partner Dependents  tenure PhoneService  \\\n",
            "2   3668-QPYBK    Male            No      No         No     NaN          Yes   \n",
            "4   9237-HQITU  Female            No      No         No     NaN          Yes   \n",
            "5   9305-CDSKC  Female            No      No         No     NaN          Yes   \n",
            "8   7892-POOKP  Female            No     Yes         No    28.0          Yes   \n",
            "13  0280-XJGEX    Male            No     NaN         No     NaN          Yes   \n",
            "\n",
            "   MultipleLines InternetService OnlineSecurity  ... TechSupport StreamingTV  \\\n",
            "2             No             DSL            Yes  ...          No          No   \n",
            "4             No     Fiber optic             No  ...          No          No   \n",
            "5            Yes     Fiber optic             No  ...          No         Yes   \n",
            "8            Yes     Fiber optic             No  ...         Yes         Yes   \n",
            "13           Yes     Fiber optic             No  ...          No         Yes   \n",
            "\n",
            "   StreamingMovies        Contract PaperlessBilling  \\\n",
            "2               No  Month-to-month              Yes   \n",
            "4               No  Month-to-month              Yes   \n",
            "5              Yes  Month-to-month              Yes   \n",
            "8              Yes  Month-to-month              Yes   \n",
            "13             Yes  Month-to-month              Yes   \n",
            "\n",
            "                PaymentMethod MonthlyCharges TotalCharges  Churn  \\\n",
            "2                Mailed check          53.85       108.15    Yes   \n",
            "4            Electronic check          70.70       151.65    Yes   \n",
            "5            Electronic check          99.65        820.5    Yes   \n",
            "8            Electronic check         104.80      3046.05    Yes   \n",
            "13  Bank transfer (automatic)         103.70       5036.3    Yes   \n",
            "\n",
            "   MonthlyChargesPerYear  \n",
            "2                    NaN  \n",
            "4                    NaN  \n",
            "5                    NaN  \n",
            "8                 2934.4  \n",
            "13                   NaN  \n",
            "\n",
            "[5 rows x 22 columns]\n"
          ]
        }
      ]
    },
    {
      "cell_type": "markdown",
      "source": [
        "**Aggregate data to sumarise information**"
      ],
      "metadata": {
        "id": "gs9YrsA8ytqq"
      }
    },
    {
      "cell_type": "code",
      "source": [
        "#Aggregate data by 'Contract' type and calculate average 'MonthlyCharges'\n",
        "df_agg=df.groupby('Contract').agg({'MonthlyCharges':'mean'})\n",
        "\n",
        "#Display the aggregated data\n",
        "print(df_agg)"
      ],
      "metadata": {
        "colab": {
          "base_uri": "https://localhost:8080/"
        },
        "id": "YgN8sdPtyedR",
        "outputId": "e8abce34-a43e-4346-86cc-103e9e974eb9"
      },
      "execution_count": null,
      "outputs": [
        {
          "output_type": "stream",
          "name": "stdout",
          "text": [
            "                MonthlyCharges\n",
            "Contract                      \n",
            "Month-to-month       66.398490\n",
            "One year             65.048608\n",
            "Two year             60.770413\n"
          ]
        }
      ]
    },
    {
      "cell_type": "code",
      "source": [
        "#Total numer of churned customer by internet service\n",
        "df_agg_internet_service=df[df['Churn']=='Yes'].groupby('InternetService').size()\n",
        "\n",
        "#display the aggregates data\n",
        "print(df_agg_internet_service)"
      ],
      "metadata": {
        "colab": {
          "base_uri": "https://localhost:8080/"
        },
        "id": "ishyh82PzRqz",
        "outputId": "9dbfabba-4199-48ae-d639-ebbda29c33a3"
      },
      "execution_count": null,
      "outputs": [
        {
          "output_type": "stream",
          "name": "stdout",
          "text": [
            "InternetService\n",
            "DSL             459\n",
            "Fiber optic    1297\n",
            "No              113\n",
            "dtype: int64\n"
          ]
        }
      ]
    },
    {
      "cell_type": "markdown",
      "source": [
        "**Working with arithmetic operators**"
      ],
      "metadata": {
        "id": "eM6Jewz3z92B"
      }
    },
    {
      "cell_type": "code",
      "source": [
        "#Add 5 to the fifth record of 'MonthlyCharges' column\n",
        "df.at[4,'MonthlyCharges']+=5\n",
        "\n",
        "#Display the updated values\n",
        "print(df.loc[4,'MonthlyCharges'])"
      ],
      "metadata": {
        "colab": {
          "base_uri": "https://localhost:8080/"
        },
        "id": "xVDzpnzMzsGc",
        "outputId": "c16bd500-27e2-4364-e801-762090b97e50"
      },
      "execution_count": null,
      "outputs": [
        {
          "output_type": "stream",
          "name": "stdout",
          "text": [
            "75.7\n"
          ]
        }
      ]
    },
    {
      "cell_type": "code",
      "source": [
        "#Subtracting 9.65 from the sixth record of monthly charges column\n",
        "df.at[5,'MonthlyCharges']-9.65\n",
        "\n",
        "#Display the updated values\n",
        "print(df.loc[4,'MonthlyCharges'])"
      ],
      "metadata": {
        "colab": {
          "base_uri": "https://localhost:8080/"
        },
        "id": "ju-a6KgY0a8B",
        "outputId": "1f30cb61-bef8-4109-bfe1-f4709500910d"
      },
      "execution_count": null,
      "outputs": [
        {
          "output_type": "stream",
          "name": "stdout",
          "text": [
            "75.7\n"
          ]
        }
      ]
    },
    {
      "cell_type": "code",
      "source": [
        "#Multiply the 1st record of the monthlycharges column with 3\n",
        "df.at[0,'MonthlyCharges']*3\n",
        "\n",
        "#Display the updated values\n",
        "print(df.loc[4,'MonthlyCharges'])"
      ],
      "metadata": {
        "colab": {
          "base_uri": "https://localhost:8080/"
        },
        "id": "lr9_PpIQ00rC",
        "outputId": "c1586cb0-d77e-43d5-88ff-db7c513f4a48"
      },
      "execution_count": null,
      "outputs": [
        {
          "output_type": "stream",
          "name": "stdout",
          "text": [
            "75.7\n"
          ]
        }
      ]
    },
    {
      "cell_type": "code",
      "source": [
        "#Divide the 37 th record of the monthlycharges column by 3\n",
        "df.at[36,'MonthlyCharges']/3\n",
        "\n",
        "#Display the updated values\n",
        "print(df.loc[4,'MonthlyCharges'])"
      ],
      "metadata": {
        "colab": {
          "base_uri": "https://localhost:8080/"
        },
        "id": "cT4JppBH1C6G",
        "outputId": "1f511f78-9f9a-4e49-f8ba-78e8b57249ca"
      },
      "execution_count": null,
      "outputs": [
        {
          "output_type": "stream",
          "name": "stdout",
          "text": [
            "75.7\n"
          ]
        }
      ]
    },
    {
      "cell_type": "markdown",
      "source": [
        "**Working with Relation operators**"
      ],
      "metadata": {
        "id": "R-YJxHhg1rXq"
      }
    },
    {
      "cell_type": "code",
      "source": [
        "#Check if the value of tenure in 1t row is greater than in 10th row\n",
        "tenure_greater=df.at[0,'tenure']>df.at[9,'tenure']\n",
        "\n",
        "#Display the result\n",
        "print(tenure_greater)"
      ],
      "metadata": {
        "colab": {
          "base_uri": "https://localhost:8080/"
        },
        "id": "HLp7mjkb1e_g",
        "outputId": "12be1d4b-bc1f-48ef-989a-e5dc26b96570"
      },
      "execution_count": null,
      "outputs": [
        {
          "output_type": "stream",
          "name": "stdout",
          "text": [
            "False\n"
          ]
        }
      ]
    },
    {
      "cell_type": "code",
      "source": [
        "#Check if the value of tenure in  row is greater than in  row\n",
        "tenure_greater=df.at[0,'tenure']>df.at[9,'tenure']\n",
        "\n",
        "#Display the result\n",
        "print(tenure_greater)"
      ],
      "metadata": {
        "id": "-9U_6PQw19kp"
      },
      "execution_count": null,
      "outputs": []
    },
    {
      "cell_type": "code",
      "source": [
        "#count of customer subsribed to both techsupport and streaming tv\n",
        "both_services_count=df[(df['TechSupport']=='Yes') & (df['StreamingTV']=='Yes')].shape[0]\n",
        "\n",
        "#Display the count\n",
        "print(both_services_count)"
      ],
      "metadata": {
        "colab": {
          "base_uri": "https://localhost:8080/"
        },
        "id": "Y_ZFHL172R9o",
        "outputId": "cf53c4d4-c5a9-4a78-89b4-d13d8ea0878e"
      },
      "execution_count": null,
      "outputs": [
        {
          "output_type": "stream",
          "name": "stdout",
          "text": [
            "1218\n"
          ]
        }
      ]
    },
    {
      "cell_type": "code",
      "source": [
        "#those customer whose internet serive is either DSL or Fibre optic store in 'Internet_dsl_fibre\n",
        "\n",
        "Internet_dsl_fibre=df[(df['InternetService']=='DSL') | (df['InternetService']=='Fiber optic')].shape[0]\n",
        "\n",
        "print(Internet_dsl_fibre)"
      ],
      "metadata": {
        "colab": {
          "base_uri": "https://localhost:8080/"
        },
        "id": "FCLvCAkx28uS",
        "outputId": "23993062-5cfc-403c-abe1-41cd00febb92"
      },
      "execution_count": null,
      "outputs": [
        {
          "output_type": "stream",
          "name": "stdout",
          "text": [
            "5517\n"
          ]
        }
      ]
    },
    {
      "cell_type": "markdown",
      "source": [
        "need to map here!!!!!!!!!!!!!!"
      ],
      "metadata": {
        "id": "jgoMl0Td5wj9"
      }
    },
    {
      "cell_type": "code",
      "source": [
        "#Extract all the male senior citizen whose payment method is Electronic store result in 'senior_male_electronic'\n",
        "senior_male_electronic=df[((df['gender']=='Male') & (df['SeniorCitizen']== 1) & (df['PaymentMethod']== 'Electronic check'))].shape[0]\n",
        "\n",
        "print(senior_male_electronic)"
      ],
      "metadata": {
        "colab": {
          "base_uri": "https://localhost:8080/"
        },
        "id": "VO9XaD_e3ymi",
        "outputId": "80e2aeb6-2131-454e-b5b8-d9faa029ba80"
      },
      "execution_count": null,
      "outputs": [
        {
          "output_type": "stream",
          "name": "stdout",
          "text": [
            "0\n"
          ]
        }
      ]
    },
    {
      "cell_type": "markdown",
      "source": [
        "**Checking for missing values**"
      ],
      "metadata": {
        "id": "xALv1MsW51JL"
      }
    },
    {
      "cell_type": "code",
      "source": [
        "missing_values_count=df.isnull().sum().sum()\n",
        "print(missing_values_count)"
      ],
      "metadata": {
        "colab": {
          "base_uri": "https://localhost:8080/"
        },
        "id": "Fm0828eD5I-T",
        "outputId": "ec2ce551-3a6e-4466-bc92-ee25fd63a878"
      },
      "execution_count": null,
      "outputs": [
        {
          "output_type": "stream",
          "name": "stdout",
          "text": [
            "46\n"
          ]
        }
      ]
    },
    {
      "cell_type": "code",
      "source": [
        "dsl_tenure_above_45=df[(df['InternetService']=='DSL') & (df['tenure']>45)]\n",
        "print(dsl_tenure_above_45.head())"
      ],
      "metadata": {
        "colab": {
          "base_uri": "https://localhost:8080/"
        },
        "id": "lRoO9u066MyN",
        "outputId": "af0e238d-a501-4b8d-9a9a-32570aa6585e"
      },
      "execution_count": null,
      "outputs": [
        {
          "output_type": "stream",
          "name": "stdout",
          "text": [
            "    customerID  gender SeniorCitizen Partner Dependents  tenure PhoneService  \\\n",
            "9   6388-TABGU    Male            No      No        Yes    62.0          Yes   \n",
            "23  3638-WEABW  Female            No     Yes        NaN    58.0          Yes   \n",
            "24  6322-HRPFA    Male            No     Yes        NaN    49.0          Yes   \n",
            "28  5248-YGIJN    Male            No     Yes         No    72.0          Yes   \n",
            "41  9489-DEDVP  Female            No     Yes        Yes    70.0          Yes   \n",
            "\n",
            "   MultipleLines InternetService OnlineSecurity  ... TechSupport StreamingTV  \\\n",
            "9             No             DSL            Yes  ...          No          No   \n",
            "23           Yes             DSL             No  ...         Yes          No   \n",
            "24            No             DSL            Yes  ...         Yes          No   \n",
            "28           Yes             DSL            Yes  ...         Yes         Yes   \n",
            "41           Yes             DSL            Yes  ...          No         Yes   \n",
            "\n",
            "   StreamingMovies        Contract PaperlessBilling  \\\n",
            "9               No        One year               No   \n",
            "23              No        Two year              Yes   \n",
            "24              No  Month-to-month               No   \n",
            "28             Yes        Two year              Yes   \n",
            "41              No        Two year              Yes   \n",
            "\n",
            "                PaymentMethod MonthlyCharges TotalCharges  Churn  \\\n",
            "9   Bank transfer (automatic)          56.15      3487.95     No   \n",
            "23    Credit card (automatic)          59.90       3505.1     No   \n",
            "24    Credit card (automatic)          59.60       2970.3     No   \n",
            "28    Credit card (automatic)          90.25      6369.45     No   \n",
            "41    Credit card (automatic)          69.20      4872.35     No   \n",
            "\n",
            "   MonthlyChargesPerYear  \n",
            "9                 3481.3  \n",
            "23                3474.2  \n",
            "24                2920.4  \n",
            "28                6498.0  \n",
            "41                4844.0  \n",
            "\n",
            "[5 rows x 22 columns]\n"
          ]
        }
      ]
    },
    {
      "cell_type": "markdown",
      "source": [
        "**Get Max Tenure**"
      ],
      "metadata": {
        "id": "KqhdK8fT8eP-"
      }
    },
    {
      "cell_type": "code",
      "source": [
        "max_tenure=df['tenure'].max()\n",
        "print(max_tenure)"
      ],
      "metadata": {
        "colab": {
          "base_uri": "https://localhost:8080/"
        },
        "id": "hXDFl-Sq7vIn",
        "outputId": "6c6fd743-aa21-45a3-95bc-41b115c06fae"
      },
      "execution_count": null,
      "outputs": [
        {
          "output_type": "stream",
          "name": "stdout",
          "text": [
            "72.0\n"
          ]
        }
      ]
    },
    {
      "cell_type": "markdown",
      "source": [],
      "metadata": {
        "id": "xqg03-NJ3VkD"
      }
    }
  ]
}