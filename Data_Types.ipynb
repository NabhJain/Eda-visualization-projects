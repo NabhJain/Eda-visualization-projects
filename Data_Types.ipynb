{
  "cells": [
    {
      "cell_type": "markdown",
      "metadata": {
        "id": "K5cEN0_fq5wW"
      },
      "source": [
        "**Scalers**"
      ]
    },
    {
      "cell_type": "code",
      "execution_count": 1,
      "metadata": {
        "colab": {
          "base_uri": "https://localhost:8080/"
        },
        "id": "HiuNhxAMmyXC",
        "outputId": "95acbc56-344a-44b1-e881-908ebd212eba"
      },
      "outputs": [
        {
          "output_type": "stream",
          "name": "stdout",
          "text": [
            "The temperature is 25 c\n"
          ]
        }
      ],
      "source": [
        "#Scaler representing Temperature in celsius\n",
        "\n",
        "temperature=25\n",
        "print(f\"The temperature is {temperature} c\")"
      ]
    },
    {
      "cell_type": "code",
      "execution_count": 2,
      "metadata": {
        "colab": {
          "base_uri": "https://localhost:8080/"
        },
        "id": "ks3SdNK5qcm9",
        "outputId": "c6455d68-6f1f-4b1d-a95c-18cb27bd8820"
      },
      "outputs": [
        {
          "output_type": "stream",
          "name": "stdout",
          "text": [
            "The student's score is 85.5\n"
          ]
        }
      ],
      "source": [
        "#A scaler representing a student's score in a test\n",
        "\n",
        "score=85.5\n",
        "print(f\"The student's score is {score}\")"
      ]
    },
    {
      "cell_type": "markdown",
      "metadata": {
        "id": "-58NeQfPq_Fd"
      },
      "source": [
        "**Vectors**"
      ]
    },
    {
      "cell_type": "code",
      "execution_count": 3,
      "metadata": {
        "colab": {
          "base_uri": "https://localhost:8080/"
        },
        "id": "0--_o7kwqhNc",
        "outputId": "f41e5992-cee4-410d-a39d-7c084f79e0fd"
      },
      "outputs": [
        {
          "output_type": "stream",
          "name": "stdout",
          "text": [
            "Days of the week are ['Monday', 'Tuesday', 'Wednesday', 'Thursday', 'Friday', 'Saturday', 'Sunday']\n"
          ]
        }
      ],
      "source": [
        "#A vector representing days of a week\n",
        "\n",
        "day_of_week=['Monday','Tuesday','Wednesday','Thursday','Friday','Saturday','Sunday']\n",
        "print(\"Days of the week are\",day_of_week)"
      ]
    },
    {
      "cell_type": "code",
      "execution_count": 4,
      "metadata": {
        "colab": {
          "base_uri": "https://localhost:8080/"
        },
        "id": "ds476TZPrgzv",
        "outputId": "fda942ad-4c31-4c89-f02c-056b1c620cf0"
      },
      "outputs": [
        {
          "output_type": "stream",
          "name": "stdout",
          "text": [
            "Monthly Rainfall: [12, 23, 45, 78, 97, 54, 23, 34, 102]\n"
          ]
        }
      ],
      "source": [
        "#A vector representing monthly rainfall in millimeters\n",
        "\n",
        "monthly_rainfall=[12,23,45,78,97,54,23,34,102]\n",
        "print(\"Monthly Rainfall:\",monthly_rainfall)\n"
      ]
    },
    {
      "cell_type": "markdown",
      "metadata": {
        "id": "xm_ZnKwnr81f"
      },
      "source": [
        "**Lists**"
      ]
    },
    {
      "cell_type": "code",
      "execution_count": 5,
      "metadata": {
        "colab": {
          "base_uri": "https://localhost:8080/"
        },
        "id": "VwSzZO0Yr1IA",
        "outputId": "db444497-3f81-4bd0-c409-f1c88109ef23"
      },
      "outputs": [
        {
          "output_type": "stream",
          "name": "stdout",
          "text": [
            "Mixed Bag: [42, 'banana', 3.14, False]\n"
          ]
        }
      ],
      "source": [
        "#A list containing different types of itmes\n",
        "\n",
        "mixed_bag=[42,'banana',3.14,False]\n",
        "print(\"Mixed Bag:\",mixed_bag)\n"
      ]
    },
    {
      "cell_type": "code",
      "execution_count": 6,
      "metadata": {
        "colab": {
          "base_uri": "https://localhost:8080/"
        },
        "id": "XesWPVfpsWUf",
        "outputId": "a2f1783f-7402-4d9b-e4c5-3cc82282364a"
      },
      "outputs": [
        {
          "output_type": "stream",
          "name": "stdout",
          "text": [
            "Student's information ['John Doe', 20, 'Computer Science', 3.5]\n"
          ]
        }
      ],
      "source": [
        "#A list representing a Student's Information\n",
        "\n",
        "student_info=['John Doe',20,'Computer Science',3.5]\n",
        "print(\"Student's information\",student_info)"
      ]
    },
    {
      "cell_type": "markdown",
      "metadata": {
        "id": "chs7oeQRtDO_"
      },
      "source": [
        "**Arrays**"
      ]
    },
    {
      "cell_type": "code",
      "execution_count": 7,
      "metadata": {
        "colab": {
          "base_uri": "https://localhost:8080/"
        },
        "id": "OJcmWytbssk3",
        "outputId": "5e055bbe-4b7f-4193-f588-2777a9df316d"
      },
      "outputs": [
        {
          "output_type": "stream",
          "name": "stdout",
          "text": [
            "Coordinates:\n",
            " [[1 2]\n",
            " [3 4]\n",
            " [5 6]]\n"
          ]
        }
      ],
      "source": [
        "import numpy as np\n",
        "\n",
        "#A 2D array representing coordinates\n",
        "\n",
        "coordinates=np.array([[1,2],[3,4],[5,6]])\n",
        "print(\"Coordinates:\\n\",coordinates)"
      ]
    },
    {
      "cell_type": "code",
      "execution_count": 8,
      "metadata": {
        "colab": {
          "base_uri": "https://localhost:8080/"
        },
        "id": "bZANcNPztXmv",
        "outputId": "655b7353-db6e-4ea4-8706-b1984275cf6f"
      },
      "outputs": [
        {
          "output_type": "stream",
          "name": "stdout",
          "text": [
            "Pixel intensities\n",
            " [[255 128   0]\n",
            " [ 64  32  16]\n",
            " [  8   4   2]]\n"
          ]
        }
      ],
      "source": [
        "#A 2D array representating pixel intensities of a grapscale image\n",
        "\n",
        "pixel_intensities=np.array([[255,128,0],[64,32,16],[8,4,2]])\n",
        "print(\"Pixel intensities\\n\",pixel_intensities)"
      ]
    },
    {
      "cell_type": "markdown",
      "metadata": {
        "id": "cpHkzv7buZ0G"
      },
      "source": [
        "**Factors**"
      ]
    },
    {
      "cell_type": "code",
      "execution_count": 9,
      "metadata": {
        "colab": {
          "base_uri": "https://localhost:8080/"
        },
        "id": "gUAMtFhwt9TG",
        "outputId": "aacdbe44-1ead-4ccf-c485-172f9234722b"
      },
      "outputs": [
        {
          "output_type": "stream",
          "name": "stdout",
          "text": [
            "Survey Responses: ['Yes', 'No', 'Yes', 'No', 'Maybe']\n",
            "Categories (3, object): ['Maybe', 'No', 'Yes']\n"
          ]
        }
      ],
      "source": [
        "#A factor representing survey responses\n",
        "\n",
        "import pandas as pd\n",
        "\n",
        "responses=pd.Categorical(['Yes','No','Yes','No','Maybe'])\n",
        "print(\"Survey Responses:\",responses)"
      ]
    },
    {
      "cell_type": "code",
      "execution_count": 10,
      "metadata": {
        "colab": {
          "base_uri": "https://localhost:8080/"
        },
        "id": "5aHzuj3nu4zG",
        "outputId": "187b3eae-9bf4-4043-c033-2f57ddbf4ec0"
      },
      "outputs": [
        {
          "output_type": "stream",
          "name": "stdout",
          "text": [
            "Shirt Sizes ['S', 'M', 'L', 'XL', 'L']\n",
            "Categories (4, object): ['L', 'M', 'S', 'XL']\n"
          ]
        }
      ],
      "source": [
        "#A factor representing shirt sizes\n",
        "\n",
        "shirt_sizes=pd.Categorical(['S','M','L','XL','L'])\n",
        "print(\"Shirt Sizes\",shirt_sizes)"
      ]
    },
    {
      "cell_type": "markdown",
      "metadata": {
        "id": "QjUFShm6v9OV"
      },
      "source": [
        "**Dataframe**"
      ]
    },
    {
      "cell_type": "code",
      "execution_count": 11,
      "metadata": {
        "colab": {
          "base_uri": "https://localhost:8080/"
        },
        "id": "wAU3zNlOvXEz",
        "outputId": "a591b928-114c-42d2-dd51-7aa2982fb1af"
      },
      "outputs": [
        {
          "output_type": "stream",
          "name": "stdout",
          "text": [
            "Class Grades       Name  Math  Science\n",
            "0    Alice    85       92\n",
            "1      Bob    90       88\n",
            "2  Charlie    95       85\n"
          ]
        }
      ],
      "source": [
        "#A dataframe representing class Grades\n",
        "\n",
        "grades_data={'Name':['Alice','Bob','Charlie'],\n",
        "             'Math':[85,90,95],\n",
        "             'Science':[92,88,85]}\n",
        "\n",
        "grades_df=pd.DataFrame(grades_data)\n",
        "print(\"Class Grades\",grades_df)"
      ]
    },
    {
      "cell_type": "code",
      "execution_count": 12,
      "metadata": {
        "colab": {
          "base_uri": "https://localhost:8080/",
          "height": 373
        },
        "id": "1NmQDGkRwqY_",
        "outputId": "9184aed4-775d-4a0a-d93d-ecf4797f8f1f",
        "collapsed": true
      },
      "outputs": [
        {
          "output_type": "error",
          "ename": "FileNotFoundError",
          "evalue": "[Errno 2] No such file or directory: 'nj.csv'",
          "traceback": [
            "\u001b[0;31m---------------------------------------------------------------------------\u001b[0m",
            "\u001b[0;31mFileNotFoundError\u001b[0m                         Traceback (most recent call last)",
            "\u001b[0;32m/tmp/ipython-input-12-198481857.py\u001b[0m in \u001b[0;36m<cell line: 0>\u001b[0;34m()\u001b[0m\n\u001b[1;32m      2\u001b[0m \u001b[0;34m\u001b[0m\u001b[0m\n\u001b[1;32m      3\u001b[0m \u001b[0;32mimport\u001b[0m \u001b[0mpandas\u001b[0m \u001b[0;32mas\u001b[0m \u001b[0mpd\u001b[0m\u001b[0;34m\u001b[0m\u001b[0;34m\u001b[0m\u001b[0m\n\u001b[0;32m----> 4\u001b[0;31m \u001b[0mproduct_df\u001b[0m\u001b[0;34m=\u001b[0m\u001b[0mpd\u001b[0m\u001b[0;34m.\u001b[0m\u001b[0mread_csv\u001b[0m\u001b[0;34m(\u001b[0m\u001b[0;34m'nj.csv'\u001b[0m\u001b[0;34m)\u001b[0m\u001b[0;34m\u001b[0m\u001b[0;34m\u001b[0m\u001b[0m\n\u001b[0m\u001b[1;32m      5\u001b[0m \u001b[0mprint\u001b[0m\u001b[0;34m(\u001b[0m\u001b[0;34m\"Products from CSV\\n\"\u001b[0m\u001b[0;34m,\u001b[0m\u001b[0mproduct_df\u001b[0m\u001b[0;34m)\u001b[0m\u001b[0;34m\u001b[0m\u001b[0;34m\u001b[0m\u001b[0m\n\u001b[1;32m      6\u001b[0m \u001b[0;34m\u001b[0m\u001b[0m\n",
            "\u001b[0;32m/usr/local/lib/python3.11/dist-packages/pandas/io/parsers/readers.py\u001b[0m in \u001b[0;36mread_csv\u001b[0;34m(filepath_or_buffer, sep, delimiter, header, names, index_col, usecols, dtype, engine, converters, true_values, false_values, skipinitialspace, skiprows, skipfooter, nrows, na_values, keep_default_na, na_filter, verbose, skip_blank_lines, parse_dates, infer_datetime_format, keep_date_col, date_parser, date_format, dayfirst, cache_dates, iterator, chunksize, compression, thousands, decimal, lineterminator, quotechar, quoting, doublequote, escapechar, comment, encoding, encoding_errors, dialect, on_bad_lines, delim_whitespace, low_memory, memory_map, float_precision, storage_options, dtype_backend)\u001b[0m\n\u001b[1;32m   1024\u001b[0m     \u001b[0mkwds\u001b[0m\u001b[0;34m.\u001b[0m\u001b[0mupdate\u001b[0m\u001b[0;34m(\u001b[0m\u001b[0mkwds_defaults\u001b[0m\u001b[0;34m)\u001b[0m\u001b[0;34m\u001b[0m\u001b[0;34m\u001b[0m\u001b[0m\n\u001b[1;32m   1025\u001b[0m \u001b[0;34m\u001b[0m\u001b[0m\n\u001b[0;32m-> 1026\u001b[0;31m     \u001b[0;32mreturn\u001b[0m \u001b[0m_read\u001b[0m\u001b[0;34m(\u001b[0m\u001b[0mfilepath_or_buffer\u001b[0m\u001b[0;34m,\u001b[0m \u001b[0mkwds\u001b[0m\u001b[0;34m)\u001b[0m\u001b[0;34m\u001b[0m\u001b[0;34m\u001b[0m\u001b[0m\n\u001b[0m\u001b[1;32m   1027\u001b[0m \u001b[0;34m\u001b[0m\u001b[0m\n\u001b[1;32m   1028\u001b[0m \u001b[0;34m\u001b[0m\u001b[0m\n",
            "\u001b[0;32m/usr/local/lib/python3.11/dist-packages/pandas/io/parsers/readers.py\u001b[0m in \u001b[0;36m_read\u001b[0;34m(filepath_or_buffer, kwds)\u001b[0m\n\u001b[1;32m    618\u001b[0m \u001b[0;34m\u001b[0m\u001b[0m\n\u001b[1;32m    619\u001b[0m     \u001b[0;31m# Create the parser.\u001b[0m\u001b[0;34m\u001b[0m\u001b[0;34m\u001b[0m\u001b[0m\n\u001b[0;32m--> 620\u001b[0;31m     \u001b[0mparser\u001b[0m \u001b[0;34m=\u001b[0m \u001b[0mTextFileReader\u001b[0m\u001b[0;34m(\u001b[0m\u001b[0mfilepath_or_buffer\u001b[0m\u001b[0;34m,\u001b[0m \u001b[0;34m**\u001b[0m\u001b[0mkwds\u001b[0m\u001b[0;34m)\u001b[0m\u001b[0;34m\u001b[0m\u001b[0;34m\u001b[0m\u001b[0m\n\u001b[0m\u001b[1;32m    621\u001b[0m \u001b[0;34m\u001b[0m\u001b[0m\n\u001b[1;32m    622\u001b[0m     \u001b[0;32mif\u001b[0m \u001b[0mchunksize\u001b[0m \u001b[0;32mor\u001b[0m \u001b[0miterator\u001b[0m\u001b[0;34m:\u001b[0m\u001b[0;34m\u001b[0m\u001b[0;34m\u001b[0m\u001b[0m\n",
            "\u001b[0;32m/usr/local/lib/python3.11/dist-packages/pandas/io/parsers/readers.py\u001b[0m in \u001b[0;36m__init__\u001b[0;34m(self, f, engine, **kwds)\u001b[0m\n\u001b[1;32m   1618\u001b[0m \u001b[0;34m\u001b[0m\u001b[0m\n\u001b[1;32m   1619\u001b[0m         \u001b[0mself\u001b[0m\u001b[0;34m.\u001b[0m\u001b[0mhandles\u001b[0m\u001b[0;34m:\u001b[0m \u001b[0mIOHandles\u001b[0m \u001b[0;34m|\u001b[0m \u001b[0;32mNone\u001b[0m \u001b[0;34m=\u001b[0m \u001b[0;32mNone\u001b[0m\u001b[0;34m\u001b[0m\u001b[0;34m\u001b[0m\u001b[0m\n\u001b[0;32m-> 1620\u001b[0;31m         \u001b[0mself\u001b[0m\u001b[0;34m.\u001b[0m\u001b[0m_engine\u001b[0m \u001b[0;34m=\u001b[0m \u001b[0mself\u001b[0m\u001b[0;34m.\u001b[0m\u001b[0m_make_engine\u001b[0m\u001b[0;34m(\u001b[0m\u001b[0mf\u001b[0m\u001b[0;34m,\u001b[0m \u001b[0mself\u001b[0m\u001b[0;34m.\u001b[0m\u001b[0mengine\u001b[0m\u001b[0;34m)\u001b[0m\u001b[0;34m\u001b[0m\u001b[0;34m\u001b[0m\u001b[0m\n\u001b[0m\u001b[1;32m   1621\u001b[0m \u001b[0;34m\u001b[0m\u001b[0m\n\u001b[1;32m   1622\u001b[0m     \u001b[0;32mdef\u001b[0m \u001b[0mclose\u001b[0m\u001b[0;34m(\u001b[0m\u001b[0mself\u001b[0m\u001b[0;34m)\u001b[0m \u001b[0;34m->\u001b[0m \u001b[0;32mNone\u001b[0m\u001b[0;34m:\u001b[0m\u001b[0;34m\u001b[0m\u001b[0;34m\u001b[0m\u001b[0m\n",
            "\u001b[0;32m/usr/local/lib/python3.11/dist-packages/pandas/io/parsers/readers.py\u001b[0m in \u001b[0;36m_make_engine\u001b[0;34m(self, f, engine)\u001b[0m\n\u001b[1;32m   1878\u001b[0m                 \u001b[0;32mif\u001b[0m \u001b[0;34m\"b\"\u001b[0m \u001b[0;32mnot\u001b[0m \u001b[0;32min\u001b[0m \u001b[0mmode\u001b[0m\u001b[0;34m:\u001b[0m\u001b[0;34m\u001b[0m\u001b[0;34m\u001b[0m\u001b[0m\n\u001b[1;32m   1879\u001b[0m                     \u001b[0mmode\u001b[0m \u001b[0;34m+=\u001b[0m \u001b[0;34m\"b\"\u001b[0m\u001b[0;34m\u001b[0m\u001b[0;34m\u001b[0m\u001b[0m\n\u001b[0;32m-> 1880\u001b[0;31m             self.handles = get_handle(\n\u001b[0m\u001b[1;32m   1881\u001b[0m                 \u001b[0mf\u001b[0m\u001b[0;34m,\u001b[0m\u001b[0;34m\u001b[0m\u001b[0;34m\u001b[0m\u001b[0m\n\u001b[1;32m   1882\u001b[0m                 \u001b[0mmode\u001b[0m\u001b[0;34m,\u001b[0m\u001b[0;34m\u001b[0m\u001b[0;34m\u001b[0m\u001b[0m\n",
            "\u001b[0;32m/usr/local/lib/python3.11/dist-packages/pandas/io/common.py\u001b[0m in \u001b[0;36mget_handle\u001b[0;34m(path_or_buf, mode, encoding, compression, memory_map, is_text, errors, storage_options)\u001b[0m\n\u001b[1;32m    871\u001b[0m         \u001b[0;32mif\u001b[0m \u001b[0mioargs\u001b[0m\u001b[0;34m.\u001b[0m\u001b[0mencoding\u001b[0m \u001b[0;32mand\u001b[0m \u001b[0;34m\"b\"\u001b[0m \u001b[0;32mnot\u001b[0m \u001b[0;32min\u001b[0m \u001b[0mioargs\u001b[0m\u001b[0;34m.\u001b[0m\u001b[0mmode\u001b[0m\u001b[0;34m:\u001b[0m\u001b[0;34m\u001b[0m\u001b[0;34m\u001b[0m\u001b[0m\n\u001b[1;32m    872\u001b[0m             \u001b[0;31m# Encoding\u001b[0m\u001b[0;34m\u001b[0m\u001b[0;34m\u001b[0m\u001b[0m\n\u001b[0;32m--> 873\u001b[0;31m             handle = open(\n\u001b[0m\u001b[1;32m    874\u001b[0m                 \u001b[0mhandle\u001b[0m\u001b[0;34m,\u001b[0m\u001b[0;34m\u001b[0m\u001b[0;34m\u001b[0m\u001b[0m\n\u001b[1;32m    875\u001b[0m                 \u001b[0mioargs\u001b[0m\u001b[0;34m.\u001b[0m\u001b[0mmode\u001b[0m\u001b[0;34m,\u001b[0m\u001b[0;34m\u001b[0m\u001b[0;34m\u001b[0m\u001b[0m\n",
            "\u001b[0;31mFileNotFoundError\u001b[0m: [Errno 2] No such file or directory: 'nj.csv'"
          ]
        }
      ],
      "source": [
        "#Reading Data from a CSV file\n",
        "\n",
        "import pandas as pd\n",
        "product_df=pd.read_csv('nj.csv')\n",
        "print(\"Products from CSV\\n\",product_df)\n",
        "\n",
        "#Analyzing data\n",
        "print(\"Summary statistics\\n\",product_df.describe())\n",
        "print(\"Data Types \\n\",product_df.dtypes)"
      ]
    },
    {
      "cell_type": "markdown",
      "metadata": {
        "id": "ZeF__NSp1rpN"
      },
      "source": [
        "**Working on Titanic Dataset**"
      ]
    },
    {
      "cell_type": "markdown",
      "metadata": {
        "id": "ft1ru2or4ZRd"
      },
      "source": [
        "Scaler"
      ]
    },
    {
      "cell_type": "code",
      "execution_count": null,
      "metadata": {
        "colab": {
          "base_uri": "https://localhost:8080/"
        },
        "id": "B96mej0wyrzf",
        "outputId": "9d4fd1f8-eaef-4c8a-91c2-bf4102c38529"
      },
      "outputs": [
        {
          "output_type": "stream",
          "name": "stdout",
          "text": [
            "Number of passengers: 418\n"
          ]
        }
      ],
      "source": [
        "#Importing neceddary Library\n",
        "import pandas as pd\n",
        "\n",
        "#Load th dataset\n",
        "titanic_df=pd.read_csv('tested.csv')\n",
        "\n",
        "#Scaler Representing number of passengers\n",
        "num_passengers=len(titanic_df)\n",
        "print(f\"Number of passengers: {num_passengers}\")"
      ]
    },
    {
      "cell_type": "markdown",
      "metadata": {
        "id": "cip70f7I4b5E"
      },
      "source": [
        "Vector"
      ]
    },
    {
      "cell_type": "code",
      "execution_count": null,
      "metadata": {
        "colab": {
          "base_uri": "https://localhost:8080/"
        },
        "id": "6Ibv1Y321Xfm",
        "outputId": "26a8ac90-f107-43bd-bb0a-a620dc3cd98c"
      },
      "outputs": [
        {
          "output_type": "stream",
          "name": "stdout",
          "text": [
            "First 5 passengers name ['Kelly, Mr. James', 'Wilkes, Mrs. James (Ellen Needs)', 'Myles, Mr. Thomas Francis', 'Wirz, Mr. Albert', 'Hirvonen, Mrs. Alexander (Helga E Lindqvist)']\n",
            "Last 5 passengers name ['Spector, Mr. Woolf', 'Oliva y Ocana, Dona. Fermina', 'Saether, Mr. Simon Sivertsen', 'Ware, Mr. Frederick', 'Peter, Master. Michael J']\n"
          ]
        }
      ],
      "source": [
        "#Vector Representing number of passengers\n",
        "passenger_names=titanic_df['Name'].tolist()\n",
        "print(\"First 5 passengers name\",passenger_names[:5])\n",
        "print(\"Last 5 passengers name\",passenger_names[-5:])"
      ]
    },
    {
      "cell_type": "markdown",
      "metadata": {
        "id": "Gn58N_ZF4dvU"
      },
      "source": [
        "List"
      ]
    },
    {
      "cell_type": "code",
      "execution_count": null,
      "metadata": {
        "colab": {
          "base_uri": "https://localhost:8080/"
        },
        "id": "UColK2Ps2_PF",
        "outputId": "5978b54d-5459-408d-9685-8ba1bf419989"
      },
      "outputs": [
        {
          "output_type": "stream",
          "name": "stdout",
          "text": [
            "First 5 passengers:  ['Kelly, Mr. James', 'Wilkes, Mrs. James (Ellen Needs)', 'Myles, Mr. Thomas Francis', 'Wirz, Mr. Albert', 'Hirvonen, Mrs. Alexander (Helga E Lindqvist)']\n"
          ]
        }
      ],
      "source": [
        "#List Reprentation information of a first five passenger's\n",
        "titanic = pd.read_csv('tested.csv')\n",
        "names_passengers = titanic['Name'].tolist()\n",
        "print(\"First 5 passengers: \",names_passengers[:5])"
      ]
    },
    {
      "cell_type": "markdown",
      "metadata": {
        "id": "um5cwh_h4_w1"
      },
      "source": [
        "Array"
      ]
    },
    {
      "cell_type": "code",
      "execution_count": null,
      "metadata": {
        "colab": {
          "base_uri": "https://localhost:8080/"
        },
        "id": "_QUmPvKd4WlN",
        "outputId": "4ddf0549-648b-4b09-aee6-6ab02b35d3f6"
      },
      "outputs": [
        {
          "output_type": "stream",
          "name": "stdout",
          "text": [
            "First 5 passengers: [34.5 47.  62.  27.  22. ]\n",
            "First 5 passenger fares [ 7.8292  7.      9.6875  8.6625 12.2875]\n"
          ]
        }
      ],
      "source": [
        "import numpy as np\n",
        "#Array represnting passenger ages\n",
        "age_array=np.array(titanic_df['Age'].fillna(0))\n",
        "print(\"First 5 passengers:\",age_array[:5])\n",
        "\n",
        "#Array represting passenger fares\n",
        "fare_array=np.array(titanic_df['Fare'])\n",
        "print(\"First 5 passenger fares\",fare_array[:5])"
      ]
    },
    {
      "cell_type": "markdown",
      "source": [
        "Matrix"
      ],
      "metadata": {
        "id": "EBnMacR_6zOD"
      }
    },
    {
      "cell_type": "code",
      "execution_count": null,
      "metadata": {
        "id": "ysdiCcGX6Gds",
        "colab": {
          "base_uri": "https://localhost:8080/"
        },
        "outputId": "1d272f6e-4808-47fb-8362-279008610c68"
      },
      "outputs": [
        {
          "output_type": "stream",
          "name": "stdout",
          "text": [
            "First 5 passengers age: [34.5 47.  62.  27.  22. ]\n",
            "First 5 passengers Fares: [ 7.8292  7.      9.6875  8.6625 12.2875]\n"
          ]
        }
      ],
      "source": [
        "titanic = pd.read_csv('tested.csv')\n",
        "Age = np.array(titanic['Age'].fillna(0))\n",
        "print('First 5 passengers age:',Age[:5])\n",
        "\n",
        "Fare = np.array(titanic['Fare'])\n",
        "print('First 5 passengers Fares:',Fare[:5])"
      ]
    },
    {
      "cell_type": "code",
      "source": [
        "titanic = pd.read_csv('tested.csv')\n",
        "class_fac = pd.Categorical(titanic['Pclass'])\n",
        "print(\"passenger class category: \",class_fac.categories)\n",
        "\n",
        "embarked_fac = pd.Categorical(titanic['Embarked'].fillna('none'))\n",
        "print('Embarked loc category: ',embarked_fac.categories)\n"
      ],
      "metadata": {
        "colab": {
          "base_uri": "https://localhost:8080/"
        },
        "id": "LK3Sm6JU6xVL",
        "outputId": "1e17512b-9d7b-48b6-f57b-9176f0259bba"
      },
      "execution_count": null,
      "outputs": [
        {
          "output_type": "stream",
          "name": "stdout",
          "text": [
            "passenger class category:  Index([1, 2, 3], dtype='int64')\n",
            "Embarked loc category:  Index(['C', 'Q', 'S'], dtype='object')\n"
          ]
        }
      ]
    },
    {
      "cell_type": "code",
      "source": [
        "titanic = pd.read_csv('tested.csv')\n",
        "print(\"First 5 row of titanic dataframe:\\n\",titanic.head())\n",
        "print(\"\\nDataFrame info: \")\n",
        "print(titanic.info)\n",
        "print(\"\\n Summary stats: \\n\",titanic.describe())"
      ],
      "metadata": {
        "colab": {
          "base_uri": "https://localhost:8080/"
        },
        "id": "XpnobifF64Mc",
        "outputId": "ccaa4f4d-dd54-4c37-d017-5698274e6aca"
      },
      "execution_count": null,
      "outputs": [
        {
          "output_type": "stream",
          "name": "stdout",
          "text": [
            "First 5 row of titanic dataframe:\n",
            "    PassengerId  Survived  Pclass  \\\n",
            "0          892         0       3   \n",
            "1          893         1       3   \n",
            "2          894         0       2   \n",
            "3          895         0       3   \n",
            "4          896         1       3   \n",
            "\n",
            "                                           Name     Sex   Age  SibSp  Parch  \\\n",
            "0                              Kelly, Mr. James    male  34.5      0      0   \n",
            "1              Wilkes, Mrs. James (Ellen Needs)  female  47.0      1      0   \n",
            "2                     Myles, Mr. Thomas Francis    male  62.0      0      0   \n",
            "3                              Wirz, Mr. Albert    male  27.0      0      0   \n",
            "4  Hirvonen, Mrs. Alexander (Helga E Lindqvist)  female  22.0      1      1   \n",
            "\n",
            "    Ticket     Fare Cabin Embarked  \n",
            "0   330911   7.8292   NaN        Q  \n",
            "1   363272   7.0000   NaN        S  \n",
            "2   240276   9.6875   NaN        Q  \n",
            "3   315154   8.6625   NaN        S  \n",
            "4  3101298  12.2875   NaN        S  \n",
            "\n",
            "DataFrame info: \n",
            "<bound method DataFrame.info of      PassengerId  Survived  Pclass  \\\n",
            "0            892         0       3   \n",
            "1            893         1       3   \n",
            "2            894         0       2   \n",
            "3            895         0       3   \n",
            "4            896         1       3   \n",
            "..           ...       ...     ...   \n",
            "413         1305         0       3   \n",
            "414         1306         1       1   \n",
            "415         1307         0       3   \n",
            "416         1308         0       3   \n",
            "417         1309         0       3   \n",
            "\n",
            "                                             Name     Sex   Age  SibSp  Parch  \\\n",
            "0                                Kelly, Mr. James    male  34.5      0      0   \n",
            "1                Wilkes, Mrs. James (Ellen Needs)  female  47.0      1      0   \n",
            "2                       Myles, Mr. Thomas Francis    male  62.0      0      0   \n",
            "3                                Wirz, Mr. Albert    male  27.0      0      0   \n",
            "4    Hirvonen, Mrs. Alexander (Helga E Lindqvist)  female  22.0      1      1   \n",
            "..                                            ...     ...   ...    ...    ...   \n",
            "413                            Spector, Mr. Woolf    male   NaN      0      0   \n",
            "414                  Oliva y Ocana, Dona. Fermina  female  39.0      0      0   \n",
            "415                  Saether, Mr. Simon Sivertsen    male  38.5      0      0   \n",
            "416                           Ware, Mr. Frederick    male   NaN      0      0   \n",
            "417                      Peter, Master. Michael J    male   NaN      1      1   \n",
            "\n",
            "                 Ticket      Fare Cabin Embarked  \n",
            "0                330911    7.8292   NaN        Q  \n",
            "1                363272    7.0000   NaN        S  \n",
            "2                240276    9.6875   NaN        Q  \n",
            "3                315154    8.6625   NaN        S  \n",
            "4               3101298   12.2875   NaN        S  \n",
            "..                  ...       ...   ...      ...  \n",
            "413           A.5. 3236    8.0500   NaN        S  \n",
            "414            PC 17758  108.9000  C105        C  \n",
            "415  SOTON/O.Q. 3101262    7.2500   NaN        S  \n",
            "416              359309    8.0500   NaN        S  \n",
            "417                2668   22.3583   NaN        C  \n",
            "\n",
            "[418 rows x 12 columns]>\n",
            "\n",
            " Summary stats: \n",
            "        PassengerId    Survived      Pclass         Age       SibSp  \\\n",
            "count   418.000000  418.000000  418.000000  332.000000  418.000000   \n",
            "mean   1100.500000    0.363636    2.265550   30.272590    0.447368   \n",
            "std     120.810458    0.481622    0.841838   14.181209    0.896760   \n",
            "min     892.000000    0.000000    1.000000    0.170000    0.000000   \n",
            "25%     996.250000    0.000000    1.000000   21.000000    0.000000   \n",
            "50%    1100.500000    0.000000    3.000000   27.000000    0.000000   \n",
            "75%    1204.750000    1.000000    3.000000   39.000000    1.000000   \n",
            "max    1309.000000    1.000000    3.000000   76.000000    8.000000   \n",
            "\n",
            "            Parch        Fare  \n",
            "count  418.000000  417.000000  \n",
            "mean     0.392344   35.627188  \n",
            "std      0.981429   55.907576  \n",
            "min      0.000000    0.000000  \n",
            "25%      0.000000    7.895800  \n",
            "50%      0.000000   14.454200  \n",
            "75%      0.000000   31.500000  \n",
            "max      9.000000  512.329200  \n"
          ]
        }
      ]
    },
    {
      "cell_type": "code",
      "source": [],
      "metadata": {
        "id": "gMUnel4_647b"
      },
      "execution_count": null,
      "outputs": []
    }
  ],
  "metadata": {
    "colab": {
      "provenance": []
    },
    "kernelspec": {
      "display_name": "Python 3",
      "name": "python3"
    },
    "language_info": {
      "name": "python"
    }
  },
  "nbformat": 4,
  "nbformat_minor": 0
}